{
 "cells": [
  {
   "cell_type": "code",
   "execution_count": 1,
   "metadata": {},
   "outputs": [
    {
     "ename": "ModuleNotFoundError",
     "evalue": "No module named 'to_nwb'",
     "output_type": "error",
     "traceback": [
      "\u001b[1;31m---------------------------------------------------------------------------\u001b[0m",
      "\u001b[1;31mModuleNotFoundError\u001b[0m                       Traceback (most recent call last)",
      "\u001b[1;32m<ipython-input-1-83bbe64df2fa>\u001b[0m in \u001b[0;36m<module>\u001b[1;34m\u001b[0m\n\u001b[0;32m      9\u001b[0m \u001b[1;32mfrom\u001b[0m \u001b[0mtqdm\u001b[0m \u001b[1;32mimport\u001b[0m \u001b[0mtqdm\u001b[0m\u001b[1;33m\u001b[0m\u001b[1;33m\u001b[0m\u001b[0m\n\u001b[0;32m     10\u001b[0m \u001b[1;33m\u001b[0m\u001b[0m\n\u001b[1;32m---> 11\u001b[1;33m \u001b[1;32mimport\u001b[0m \u001b[0mto_nwb\u001b[0m\u001b[1;33m.\u001b[0m\u001b[0mneuroscope\u001b[0m \u001b[1;32mas\u001b[0m \u001b[0mns\u001b[0m\u001b[1;33m\u001b[0m\u001b[1;33m\u001b[0m\u001b[0m\n\u001b[0m\u001b[0;32m     12\u001b[0m \u001b[1;33m\u001b[0m\u001b[0m\n\u001b[0;32m     13\u001b[0m \u001b[0msession_path\u001b[0m \u001b[1;33m=\u001b[0m \u001b[1;34m'D:\\\\BuzsakiData\\\\SenzaiY\\\\Mouse41\\\\Mouse41-150903'\u001b[0m\u001b[1;33m\u001b[0m\u001b[1;33m\u001b[0m\u001b[0m\n",
      "\u001b[1;31mModuleNotFoundError\u001b[0m: No module named 'to_nwb'"
     ]
    }
   ],
   "source": [
    "import os\n",
    "from datetime import datetime\n",
    "\n",
    "from pynwb import NWBFile, NWBHDF5IO\n",
    "from pynwb.file import Subject\n",
    "\n",
    "import numpy as np\n",
    "\n",
    "from tqdm import tqdm\n",
    "\n",
    "import to_nwb.neuroscope as ns\n",
    "\n",
    "session_path = 'D:\\\\BuzsakiData\\\\SenzaiY\\\\Mouse41\\\\Mouse41-150903'\n",
    "\n",
    "stub = True\n",
    "\n",
    "subject_path, session_id = os.path.split(session_path)\n",
    "subject_id = os.path.split(subject_path)[1]\n",
    "\n",
    "\n",
    "nwbfile = NWBFile(session_description='session_description',\n",
    "                  identifier=subject_id + '_' + session_id,\n",
    "                  session_start_time=datetime.now().astimezone(),\n",
    "                  file_create_date=datetime.now().astimezone(),\n",
    "                  experimenter='experimenter',\n",
    "                  session_id=session_id,\n",
    "                  institution='NYU',\n",
    "                  lab='lab',\n",
    "                  related_publications='pubs')\n",
    "\n",
    "nwbfile.subject = Subject(subject_id=subject_id, species='Mus musculus')\n",
    "\n",
    "ns.write_electrode_table(nwbfile, session_path)\n",
    "ns.add_lfp(nwbfile, session_path, stub=stub)\n",
    "\n",
    "ns.write_events(nwbfile, session_path)\n",
    "\n",
    "ns.add_units(nwbfile, session_path)\n",
    "\n",
    "nshanks = len(ns.get_shank_channels(session_path))\n",
    "for shankn in tqdm(np.arange(nshanks)+1, desc='processing each shank'):\n",
    "\n",
    "    ns.write_spike_waveforms(nwbfile, session_path, shankn)\n",
    "    ns.write_unit_series(nwbfile, session_path, shankn)\n",
    "\n",
    "out_fname = session_path\n",
    "if stub:\n",
    "    out_fname += '_stub'\n",
    "out_fname += '-test.nwb'\n",
    "\n",
    "with NWBHDF5IO(out_fname, 'w') as io:\n",
    "    io.write(nwbfile)\n",
    "\n",
    "#  test read\n",
    "with NWBHDF5IO(out_fname, 'r') as io:\n",
    "    io.read()\n",
    "\n",
    "\n"
   ]
  }
 ],
 "metadata": {
  "kernelspec": {
   "display_name": "Python 3",
   "language": "python",
   "name": "python3"
  },
  "language_info": {
   "codemirror_mode": {
    "name": "ipython",
    "version": 3
   },
   "file_extension": ".py",
   "mimetype": "text/x-python",
   "name": "python",
   "nbconvert_exporter": "python",
   "pygments_lexer": "ipython3",
   "version": "3.7.6"
  }
 },
 "nbformat": 4,
 "nbformat_minor": 4
}
