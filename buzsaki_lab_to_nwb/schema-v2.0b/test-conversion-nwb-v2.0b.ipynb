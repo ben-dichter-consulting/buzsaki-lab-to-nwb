{
 "cells": [
  {
   "cell_type": "code",
   "execution_count": 5,
   "metadata": {},
   "outputs": [
    {
     "name": "stderr",
     "output_type": "stream",
     "text": [
      "C:\\Users\\Raven\\anaconda3\\lib\\site-packages\\pynwb\\file.py:749: UserWarning: Date is missing timezone information. Updating to local timezone.\n",
      "  warn(\"Date is missing timezone information. Updating to local timezone.\")\n"
     ]
    },
    {
     "ename": "NameError",
     "evalue": "name 'Device' is not defined",
     "output_type": "error",
     "traceback": [
      "\u001b[1;31m---------------------------------------------------------------------------\u001b[0m",
      "\u001b[1;31mNameError\u001b[0m                                 Traceback (most recent call last)",
      "\u001b[1;32m<ipython-input-5-48c0d1eb7fc9>\u001b[0m in \u001b[0;36m<module>\u001b[1;34m\u001b[0m\n\u001b[0;32m      9\u001b[0m nwb = conversion_function(source_paths='D:\\\\BuzsakiData\\\\SenzaiY\\\\Mouse41\\\\Mouse41-150903',\n\u001b[0;32m     10\u001b[0m                         \u001b[0mf_nwb\u001b[0m\u001b[1;33m=\u001b[0m\u001b[1;34m'test-conversion-yutaMouse41-v2.0b.nwb'\u001b[0m\u001b[1;33m,\u001b[0m\u001b[1;33m\u001b[0m\u001b[1;33m\u001b[0m\u001b[0m\n\u001b[1;32m---> 11\u001b[1;33m                         metafile='./metafile.yml')\n\u001b[0m",
      "\u001b[1;32mD:\\GitHub\\buzsaki-lab-to-nwb\\buzsaki_lab_to_nwb\\conversion_module.py\u001b[0m in \u001b[0;36mconversion_function\u001b[1;34m(source_paths, f_nwb, metafile, **kwargs)\u001b[0m\n\u001b[0;32m     35\u001b[0m \u001b[1;33m\u001b[0m\u001b[0m\n\u001b[0;32m     36\u001b[0m     \u001b[1;31m# Create and add device\u001b[0m\u001b[1;33m\u001b[0m\u001b[1;33m\u001b[0m\u001b[1;33m\u001b[0m\u001b[0m\n\u001b[1;32m---> 37\u001b[1;33m     \u001b[0mdevice\u001b[0m \u001b[1;33m=\u001b[0m \u001b[0mDevice\u001b[0m\u001b[1;33m(\u001b[0m\u001b[1;33m**\u001b[0m\u001b[0mmeta\u001b[0m\u001b[1;33m[\u001b[0m\u001b[1;34m'Ophys'\u001b[0m\u001b[1;33m]\u001b[0m\u001b[1;33m[\u001b[0m\u001b[1;34m'Device'\u001b[0m\u001b[1;33m]\u001b[0m\u001b[1;33m)\u001b[0m\u001b[1;33m\u001b[0m\u001b[1;33m\u001b[0m\u001b[0m\n\u001b[0m\u001b[0;32m     38\u001b[0m     \u001b[0mnwb\u001b[0m\u001b[1;33m.\u001b[0m\u001b[0madd_device\u001b[0m\u001b[1;33m(\u001b[0m\u001b[0mdevice\u001b[0m\u001b[1;33m)\u001b[0m\u001b[1;33m\u001b[0m\u001b[1;33m\u001b[0m\u001b[0m\n\u001b[0;32m     39\u001b[0m \u001b[1;33m\u001b[0m\u001b[0m\n",
      "\u001b[1;31mNameError\u001b[0m: name 'Device' is not defined"
     ]
    }
   ],
   "source": [
    "from pynwb import NWBFile, NWBHDF5IO, ProcessingModule\n",
    "from conversion_module import conversion_function\n",
    "\n",
    "import matplotlib.pyplot as plt\n",
    "import yaml\n",
    "import numpy as np\n",
    "import os\n",
    "\n",
    "nwb = conversion_function(source_paths='D:\\\\BuzsakiData\\\\SenzaiY\\\\Mouse41\\\\Mouse41-150903',\n",
    "                        f_nwb='test-conversion-yutaMouse41-v2.0b.nwb',\n",
    "                        metafile='./metafile.yml')"
   ]
  },
  {
   "cell_type": "code",
   "execution_count": 4,
   "metadata": {},
   "outputs": [],
   "source": [
    "conversion_function?"
   ]
  },
  {
   "cell_type": "code",
   "execution_count": 7,
   "metadata": {},
   "outputs": [
    {
     "name": "stderr",
     "output_type": "stream",
     "text": [
      "Traceback (most recent call last):\n",
      "  File \"nwb_gui.py\", line 5, in <module>\n",
      "    from nwbn_conversion_tools.gui.nwbn_conversion_gui import nwbn_conversion_gui\n",
      "ModuleNotFoundError: No module named 'nwbn_conversion_tools'\n"
     ]
    }
   ],
   "source": [
    "!python nwb_gui.py"
   ]
  },
  {
   "cell_type": "code",
   "execution_count": 14,
   "metadata": {},
   "outputs": [
    {
     "ename": "SyntaxError",
     "evalue": "keyword argument repeated (convert_yuta.py, line 315)",
     "output_type": "error",
     "traceback": [
      "Traceback \u001b[1;36m(most recent call last)\u001b[0m:\n",
      "  File \u001b[0;32m\"C:\\Users\\Raven\\anaconda3\\lib\\site-packages\\IPython\\core\\interactiveshell.py\"\u001b[0m, line \u001b[0;32m3331\u001b[0m, in \u001b[0;35mrun_code\u001b[0m\n    exec(code_obj, self.user_global_ns, self.user_ns)\n",
      "\u001b[1;36m  File \u001b[1;32m\"<ipython-input-14-ebf41deb90b2>\"\u001b[1;36m, line \u001b[1;32m3\u001b[1;36m, in \u001b[1;35m<module>\u001b[1;36m\u001b[0m\n\u001b[1;33m    from convert_yuta import *\u001b[0m\n",
      "\u001b[1;36m  File \u001b[1;32m\"./original_code\\convert_yuta.py\"\u001b[1;36m, line \u001b[1;32m315\u001b[0m\n\u001b[1;33m    conversion=np.nan,\u001b[0m\n\u001b[1;37m    ^\u001b[0m\n\u001b[1;31mSyntaxError\u001b[0m\u001b[1;31m:\u001b[0m keyword argument repeated\n"
     ]
    }
   ],
   "source": [
    "import sys\n",
    "sys.path.append('original_code')\n",
    "from convert_yuta import *\n",
    "import numpy as np\n",
    "\n",
    "yuta2nwb(session_path='D:\\\\BuzsakiData\\\\SenzaiY\\\\Mouse41\\\\Mouse41-150903')"
   ]
  },
  {
   "cell_type": "code",
   "execution_count": null,
   "metadata": {},
   "outputs": [],
   "source": []
  }
 ],
 "metadata": {
  "kernelspec": {
   "display_name": "Python 3",
   "language": "python",
   "name": "python3"
  },
  "language_info": {
   "codemirror_mode": {
    "name": "ipython",
    "version": 3
   },
   "file_extension": ".py",
   "mimetype": "text/x-python",
   "name": "python",
   "nbconvert_exporter": "python",
   "pygments_lexer": "ipython3",
   "version": "3.7.6"
  }
 },
 "nbformat": 4,
 "nbformat_minor": 4
}
