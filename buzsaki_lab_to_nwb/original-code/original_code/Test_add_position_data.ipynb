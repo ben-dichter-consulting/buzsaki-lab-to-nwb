{
 "cells": [
  {
   "cell_type": "code",
   "execution_count": 1,
   "metadata": {},
   "outputs": [
    {
     "name": "stdout",
     "output_type": "stream",
     "text": [
      "warning: time may not be aligned\n"
     ]
    }
   ],
   "source": [
    "# This is a subset of the code from the unfunctionalized version of add_position_data(...) from to_nwb/neuroscope.py\n",
    "\n",
    "import os\n",
    "from glob import glob\n",
    "\n",
    "import numpy as np\n",
    "import pandas as pd\n",
    "from bs4 import BeautifulSoup\n",
    "from pynwb.behavior import SpatialSeries\n",
    "from pynwb.ecephys import ElectricalSeries, LFP, SpikeEventSeries, EventWaveform#, UnitSeries\n",
    "from hdmf.backends.hdf5.h5_utils import H5DataIO\n",
    "from hdmf.data_utils import DataChunkIterator\n",
    "from pynwb.misc import AnnotationSeries\n",
    "from tqdm import tqdm\n",
    "\n",
    "session_path = 'D:/BuzsakiData/SenzaiY/YutaMouse41/YutaMouse41-150903';\n",
    "fs = 1250./32.;\n",
    "names=('x0', 'y0', 'x1', 'y1');\n",
    "\n",
    "session_name = os.path.split(session_path)[1]\n",
    "whl_path = os.path.join(session_path, session_name + '.whl')\n",
    "if not os.path.isfile(whl_path):\n",
    "    print(whl_path + ' file not found!')\n",
    "print('warning: time may not be aligned')"
   ]
  },
  {
   "cell_type": "code",
   "execution_count": 2,
   "metadata": {},
   "outputs": [
    {
     "name": "stdout",
     "output_type": "stream",
     "text": [
      "YutaMouse41-150903\n",
      "D:/BuzsakiData/SenzaiY/YutaMouse41/YutaMouse41-150903\\YutaMouse41-150903.whl\n"
     ]
    }
   ],
   "source": [
    "print(session_name)\n",
    "print(whl_path)"
   ]
  },
  {
   "cell_type": "code",
   "execution_count": 3,
   "metadata": {},
   "outputs": [],
   "source": [
    "df = pd.read_csv(whl_path, sep='\\t', names=names)"
   ]
  },
  {
   "cell_type": "code",
   "execution_count": 4,
   "metadata": {},
   "outputs": [
    {
     "data": {
      "text/html": [
       "<div>\n",
       "<style scoped>\n",
       "    .dataframe tbody tr th:only-of-type {\n",
       "        vertical-align: middle;\n",
       "    }\n",
       "\n",
       "    .dataframe tbody tr th {\n",
       "        vertical-align: top;\n",
       "    }\n",
       "\n",
       "    .dataframe thead th {\n",
       "        text-align: right;\n",
       "    }\n",
       "</style>\n",
       "<table border=\"1\" class=\"dataframe\">\n",
       "  <thead>\n",
       "    <tr style=\"text-align: right;\">\n",
       "      <th></th>\n",
       "      <th>x0</th>\n",
       "      <th>y0</th>\n",
       "      <th>x1</th>\n",
       "      <th>y1</th>\n",
       "    </tr>\n",
       "  </thead>\n",
       "  <tbody>\n",
       "    <tr>\n",
       "      <th>0</th>\n",
       "      <td>NaN</td>\n",
       "      <td>NaN</td>\n",
       "      <td>NaN</td>\n",
       "      <td>NaN</td>\n",
       "    </tr>\n",
       "    <tr>\n",
       "      <th>1</th>\n",
       "      <td>NaN</td>\n",
       "      <td>NaN</td>\n",
       "      <td>NaN</td>\n",
       "      <td>NaN</td>\n",
       "    </tr>\n",
       "    <tr>\n",
       "      <th>2</th>\n",
       "      <td>NaN</td>\n",
       "      <td>NaN</td>\n",
       "      <td>NaN</td>\n",
       "      <td>NaN</td>\n",
       "    </tr>\n",
       "    <tr>\n",
       "      <th>3</th>\n",
       "      <td>NaN</td>\n",
       "      <td>NaN</td>\n",
       "      <td>NaN</td>\n",
       "      <td>NaN</td>\n",
       "    </tr>\n",
       "    <tr>\n",
       "      <th>4</th>\n",
       "      <td>NaN</td>\n",
       "      <td>NaN</td>\n",
       "      <td>NaN</td>\n",
       "      <td>NaN</td>\n",
       "    </tr>\n",
       "    <tr>\n",
       "      <th>...</th>\n",
       "      <td>...</td>\n",
       "      <td>...</td>\n",
       "      <td>...</td>\n",
       "      <td>...</td>\n",
       "    </tr>\n",
       "    <tr>\n",
       "      <th>1576916</th>\n",
       "      <td>362.0</td>\n",
       "      <td>172.00</td>\n",
       "      <td>366.00</td>\n",
       "      <td>192.0</td>\n",
       "    </tr>\n",
       "    <tr>\n",
       "      <th>1576917</th>\n",
       "      <td>362.0</td>\n",
       "      <td>171.47</td>\n",
       "      <td>366.53</td>\n",
       "      <td>192.0</td>\n",
       "    </tr>\n",
       "    <tr>\n",
       "      <th>1576918</th>\n",
       "      <td>362.0</td>\n",
       "      <td>171.00</td>\n",
       "      <td>367.34</td>\n",
       "      <td>192.0</td>\n",
       "    </tr>\n",
       "    <tr>\n",
       "      <th>1576919</th>\n",
       "      <td>362.0</td>\n",
       "      <td>171.13</td>\n",
       "      <td>367.87</td>\n",
       "      <td>192.0</td>\n",
       "    </tr>\n",
       "    <tr>\n",
       "      <th>1576920</th>\n",
       "      <td>362.0</td>\n",
       "      <td>171.94</td>\n",
       "      <td>367.06</td>\n",
       "      <td>192.0</td>\n",
       "    </tr>\n",
       "  </tbody>\n",
       "</table>\n",
       "<p>1576921 rows × 4 columns</p>\n",
       "</div>"
      ],
      "text/plain": [
       "            x0      y0      x1     y1\n",
       "0          NaN     NaN     NaN    NaN\n",
       "1          NaN     NaN     NaN    NaN\n",
       "2          NaN     NaN     NaN    NaN\n",
       "3          NaN     NaN     NaN    NaN\n",
       "4          NaN     NaN     NaN    NaN\n",
       "...        ...     ...     ...    ...\n",
       "1576916  362.0  172.00  366.00  192.0\n",
       "1576917  362.0  171.47  366.53  192.0\n",
       "1576918  362.0  171.00  367.34  192.0\n",
       "1576919  362.0  171.13  367.87  192.0\n",
       "1576920  362.0  171.94  367.06  192.0\n",
       "\n",
       "[1576921 rows x 4 columns]"
      ]
     },
     "execution_count": 4,
     "metadata": {},
     "output_type": "execute_result"
    }
   ],
   "source": [
    "df"
   ]
  },
  {
   "cell_type": "code",
   "execution_count": 5,
   "metadata": {},
   "outputs": [],
   "source": [
    "df.index = np.arange(len(df)) / fs\n",
    "df.index.name = 'tt (sec)'"
   ]
  },
  {
   "cell_type": "code",
   "execution_count": 6,
   "metadata": {},
   "outputs": [
    {
     "data": {
      "text/html": [
       "<div>\n",
       "<style scoped>\n",
       "    .dataframe tbody tr th:only-of-type {\n",
       "        vertical-align: middle;\n",
       "    }\n",
       "\n",
       "    .dataframe tbody tr th {\n",
       "        vertical-align: top;\n",
       "    }\n",
       "\n",
       "    .dataframe thead th {\n",
       "        text-align: right;\n",
       "    }\n",
       "</style>\n",
       "<table border=\"1\" class=\"dataframe\">\n",
       "  <thead>\n",
       "    <tr style=\"text-align: right;\">\n",
       "      <th></th>\n",
       "      <th>x0</th>\n",
       "      <th>y0</th>\n",
       "      <th>x1</th>\n",
       "      <th>y1</th>\n",
       "    </tr>\n",
       "    <tr>\n",
       "      <th>tt (sec)</th>\n",
       "      <th></th>\n",
       "      <th></th>\n",
       "      <th></th>\n",
       "      <th></th>\n",
       "    </tr>\n",
       "  </thead>\n",
       "  <tbody>\n",
       "    <tr>\n",
       "      <th>0.0000</th>\n",
       "      <td>NaN</td>\n",
       "      <td>NaN</td>\n",
       "      <td>NaN</td>\n",
       "      <td>NaN</td>\n",
       "    </tr>\n",
       "    <tr>\n",
       "      <th>0.0256</th>\n",
       "      <td>NaN</td>\n",
       "      <td>NaN</td>\n",
       "      <td>NaN</td>\n",
       "      <td>NaN</td>\n",
       "    </tr>\n",
       "    <tr>\n",
       "      <th>0.0512</th>\n",
       "      <td>NaN</td>\n",
       "      <td>NaN</td>\n",
       "      <td>NaN</td>\n",
       "      <td>NaN</td>\n",
       "    </tr>\n",
       "    <tr>\n",
       "      <th>0.0768</th>\n",
       "      <td>NaN</td>\n",
       "      <td>NaN</td>\n",
       "      <td>NaN</td>\n",
       "      <td>NaN</td>\n",
       "    </tr>\n",
       "    <tr>\n",
       "      <th>0.1024</th>\n",
       "      <td>NaN</td>\n",
       "      <td>NaN</td>\n",
       "      <td>NaN</td>\n",
       "      <td>NaN</td>\n",
       "    </tr>\n",
       "    <tr>\n",
       "      <th>...</th>\n",
       "      <td>...</td>\n",
       "      <td>...</td>\n",
       "      <td>...</td>\n",
       "      <td>...</td>\n",
       "    </tr>\n",
       "    <tr>\n",
       "      <th>40369.0496</th>\n",
       "      <td>362.0</td>\n",
       "      <td>172.00</td>\n",
       "      <td>366.00</td>\n",
       "      <td>192.0</td>\n",
       "    </tr>\n",
       "    <tr>\n",
       "      <th>40369.0752</th>\n",
       "      <td>362.0</td>\n",
       "      <td>171.47</td>\n",
       "      <td>366.53</td>\n",
       "      <td>192.0</td>\n",
       "    </tr>\n",
       "    <tr>\n",
       "      <th>40369.1008</th>\n",
       "      <td>362.0</td>\n",
       "      <td>171.00</td>\n",
       "      <td>367.34</td>\n",
       "      <td>192.0</td>\n",
       "    </tr>\n",
       "    <tr>\n",
       "      <th>40369.1264</th>\n",
       "      <td>362.0</td>\n",
       "      <td>171.13</td>\n",
       "      <td>367.87</td>\n",
       "      <td>192.0</td>\n",
       "    </tr>\n",
       "    <tr>\n",
       "      <th>40369.1520</th>\n",
       "      <td>362.0</td>\n",
       "      <td>171.94</td>\n",
       "      <td>367.06</td>\n",
       "      <td>192.0</td>\n",
       "    </tr>\n",
       "  </tbody>\n",
       "</table>\n",
       "<p>1576921 rows × 4 columns</p>\n",
       "</div>"
      ],
      "text/plain": [
       "               x0      y0      x1     y1\n",
       "tt (sec)                                \n",
       "0.0000        NaN     NaN     NaN    NaN\n",
       "0.0256        NaN     NaN     NaN    NaN\n",
       "0.0512        NaN     NaN     NaN    NaN\n",
       "0.0768        NaN     NaN     NaN    NaN\n",
       "0.1024        NaN     NaN     NaN    NaN\n",
       "...           ...     ...     ...    ...\n",
       "40369.0496  362.0  172.00  366.00  192.0\n",
       "40369.0752  362.0  171.47  366.53  192.0\n",
       "40369.1008  362.0  171.00  367.34  192.0\n",
       "40369.1264  362.0  171.13  367.87  192.0\n",
       "40369.1520  362.0  171.94  367.06  192.0\n",
       "\n",
       "[1576921 rows x 4 columns]"
      ]
     },
     "execution_count": 6,
     "metadata": {},
     "output_type": "execute_result"
    }
   ],
   "source": [
    "df"
   ]
  },
  {
   "cell_type": "code",
   "execution_count": 7,
   "metadata": {},
   "outputs": [],
   "source": [
    "TestSeries = SpatialSeries('position_sensor0',\n",
    "              H5DataIO(df[['x0', 'y0']].values, compression='gzip'),\n",
    "              'unknown', description='raw sensor data from sensor 0',\n",
    "              timestamps=H5DataIO(df.index.values, compression='gzip'),\n",
    "              resolution=np.nan)"
   ]
  },
  {
   "cell_type": "code",
   "execution_count": 8,
   "metadata": {},
   "outputs": [
    {
     "data": {
      "text/plain": [
       "position_sensor0 pynwb.behavior.SpatialSeries at 0x3035520675912\n",
       "Fields:\n",
       "  comments: no comments\n",
       "  conversion: 1.0\n",
       "  data: <hdmf.backends.hdf5.h5_utils.H5DataIO object at 0x000002C2C2339188>\n",
       "  description: raw sensor data from sensor 0\n",
       "  interval: 1\n",
       "  reference_frame: unknown\n",
       "  resolution: nan\n",
       "  timestamps: <hdmf.backends.hdf5.h5_utils.H5DataIO object at 0x000002C2C2C2BAC8>\n",
       "  timestamps_unit: seconds\n",
       "  unit: meters"
      ]
     },
     "execution_count": 8,
     "metadata": {},
     "output_type": "execute_result"
    }
   ],
   "source": [
    "TestSeries"
   ]
  },
  {
   "cell_type": "code",
   "execution_count": 9,
   "metadata": {},
   "outputs": [
    {
     "data": {
      "text/plain": [
       "array([0.00000000e+00, 2.56000000e-02, 5.12000000e-02, ...,\n",
       "       4.03691008e+04, 4.03691264e+04, 4.03691520e+04])"
      ]
     },
     "execution_count": 9,
     "metadata": {},
     "output_type": "execute_result"
    }
   ],
   "source": [
    "TestSeries.timestamps[()]"
   ]
  },
  {
   "cell_type": "code",
   "execution_count": 10,
   "metadata": {},
   "outputs": [],
   "source": [
    "TestSeries2 = SpatialSeries('position_sensor0',\n",
    "              H5DataIO(df[[names[0], names[1]]].values, compression='gzip'),\n",
    "              'unknown', description='raw sensor data from sensor 0',\n",
    "              rate=fs,\n",
    "              starting_time = 0.,\n",
    "              resolution=np.nan)"
   ]
  },
  {
   "cell_type": "code",
   "execution_count": 11,
   "metadata": {},
   "outputs": [
    {
     "data": {
      "text/plain": [
       "position_sensor0 pynwb.behavior.SpatialSeries at 0x3035520677128\n",
       "Fields:\n",
       "  comments: no comments\n",
       "  conversion: 1.0\n",
       "  data: <hdmf.backends.hdf5.h5_utils.H5DataIO object at 0x000002C2C3212B48>\n",
       "  description: raw sensor data from sensor 0\n",
       "  rate: 39.0625\n",
       "  reference_frame: unknown\n",
       "  resolution: nan\n",
       "  starting_time: 0.0\n",
       "  starting_time_unit: seconds\n",
       "  unit: meters"
      ]
     },
     "execution_count": 11,
     "metadata": {},
     "output_type": "execute_result"
    }
   ],
   "source": [
    "TestSeries2"
   ]
  },
  {
   "cell_type": "code",
   "execution_count": 12,
   "metadata": {},
   "outputs": [
    {
     "data": {
      "text/plain": [
       "array([[   nan,    nan],\n",
       "       [   nan,    nan],\n",
       "       [   nan,    nan],\n",
       "       ...,\n",
       "       [362.  , 171.  ],\n",
       "       [362.  , 171.13],\n",
       "       [362.  , 171.94]])"
      ]
     },
     "execution_count": 12,
     "metadata": {},
     "output_type": "execute_result"
    }
   ],
   "source": [
    "TestSeries2.data[()]"
   ]
  }
 ],
 "metadata": {
  "kernelspec": {
   "display_name": "Python 3",
   "language": "python",
   "name": "python3"
  },
  "language_info": {
   "codemirror_mode": {
    "name": "ipython",
    "version": 3
   },
   "file_extension": ".py",
   "mimetype": "text/x-python",
   "name": "python",
   "nbconvert_exporter": "python",
   "pygments_lexer": "ipython3",
   "version": "3.7.6"
  }
 },
 "nbformat": 4,
 "nbformat_minor": 4
}
