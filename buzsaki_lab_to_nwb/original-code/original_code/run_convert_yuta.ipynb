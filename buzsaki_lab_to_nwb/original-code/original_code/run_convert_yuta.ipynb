{
 "cells": [
  {
   "cell_type": "code",
   "execution_count": null,
   "metadata": {},
   "outputs": [
    {
     "name": "stdout",
     "output_type": "stream",
     "text": [
      "reading and writing raw position data...warning: time may not be aligned\n",
      "setting up electrodes...0\n",
      "reading LFPs...writing LFPs...\n"
     ]
    },
    {
     "name": "stderr",
     "output_type": "stream",
     "text": [
      "writing lfp data: 100%|████████████████████████████████████████████████████████| 1000/1000 [00:00<00:00, 509883.78it/s]"
     ]
    },
    {
     "name": "stdout",
     "output_type": "stream",
     "text": [
      "filtering LFP...done.\n",
      "loading position for OpenFieldPosition_ExtraLarge...done.\n",
      "loading position for OpenFieldPosition_New_Curtain...done.\n",
      "loading position for OpenFieldPosition_New...done.\n",
      "loading position for OpenFieldPosition_Old_Curtain...done.\n",
      "loading position for OpenFieldPosition_Old...done.\n",
      "loading position for OpenFieldPosition_Oldlast...done.\n",
      "loading position for EightMazePosition...done.\n"
     ]
    },
    {
     "name": "stderr",
     "output_type": "stream",
     "text": [
      "\n"
     ]
    }
   ],
   "source": [
    "import convert_yuta\n",
    "\n",
    "convert_yuta.yuta2nwb(session_path='D:/BuzsakiData/SenzaiY/YutaMouse41/YutaMouse41-150903',\n",
    "                      include_spike_waveforms=False)"
   ]
  },
  {
   "cell_type": "code",
   "execution_count": null,
   "metadata": {},
   "outputs": [],
   "source": []
  }
 ],
 "metadata": {
  "kernelspec": {
   "display_name": "Python 3",
   "language": "python",
   "name": "python3"
  },
  "language_info": {
   "codemirror_mode": {
    "name": "ipython",
    "version": 3
   },
   "file_extension": ".py",
   "mimetype": "text/x-python",
   "name": "python",
   "nbconvert_exporter": "python",
   "pygments_lexer": "ipython3",
   "version": "3.7.6"
  }
 },
 "nbformat": 4,
 "nbformat_minor": 4
}
