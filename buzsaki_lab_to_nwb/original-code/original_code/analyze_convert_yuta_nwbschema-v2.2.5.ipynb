{
 "cells": [
  {
   "cell_type": "code",
   "execution_count": 1,
   "metadata": {},
   "outputs": [],
   "source": [
    "# Cody Baker, June 15 2020\n",
    "#\n",
    "# This is code used to understand and track the inner workings of a refactor for convert_yuta.py\n",
    "\n",
    "import os\n",
    "from dateutil.parser import parse as dateparse\n",
    "from datetime import datetime\n",
    "import pandas as pd\n",
    "import numpy as np\n",
    "\n",
    "from pynwb import NWBFile, NWBHDF5IO, TimeSeries\n",
    "from pynwb.behavior import SpatialSeries, Position\n",
    "from pynwb.file import Subject, TimeIntervals\n",
    "from pynwb.misc import DecompositionSeries\n",
    "\n",
    "# had to find and add the to_nwb package to the folder; will try making a path pointer later\n",
    "import to_nwb.neuroscope as ns\n",
    "\n",
    "session_path='D:\\BuzsakiData\\SenzaiY\\YutaMouse41\\YutaMouse41-150903'\n",
    "subject_xls=None\n",
    "include_spike_waveforms=True\n",
    "stub=True\n",
    "cache_spec=True\n",
    "\n",
    "\n",
    "subject_path, session_id = os.path.split(session_path)\n",
    "fpath_base = os.path.split(subject_path)[0]\n",
    "identifier = session_id\n",
    "mouse_number = session_id[9:11] # somewhat manual, what if single or triple digits?"
   ]
  },
  {
   "cell_type": "code",
   "execution_count": 2,
   "metadata": {},
   "outputs": [
    {
     "name": "stdout",
     "output_type": "stream",
     "text": [
      "D:\\BuzsakiData\\SenzaiY\\YutaMouse41\n",
      "YutaMouse41-150903\n",
      "D:\\BuzsakiData\\SenzaiY\n",
      "YutaMouse41-150903\n",
      "41\n"
     ]
    }
   ],
   "source": [
    "print(subject_path)\n",
    "print(session_id)\n",
    "print(fpath_base)\n",
    "print(identifier)\n",
    "print(mouse_number)"
   ]
  },
  {
   "cell_type": "code",
   "execution_count": 3,
   "metadata": {},
   "outputs": [],
   "source": [
    "if '-' in session_id:\n",
    "    subject_id, date_text = session_id.split('-')\n",
    "    b = False\n",
    "else:\n",
    "    subject_id, date_text = session_id.split('b') # not sure what condition this is for outside the Yuta datasets\n",
    "    b = True"
   ]
  },
  {
   "cell_type": "code",
   "execution_count": 4,
   "metadata": {},
   "outputs": [
    {
     "name": "stdout",
     "output_type": "stream",
     "text": [
      "YutaMouse41\n",
      "150903\n",
      "False\n"
     ]
    }
   ],
   "source": [
    "print(subject_id)\n",
    "print(date_text)\n",
    "print(b)"
   ]
  },
  {
   "cell_type": "code",
   "execution_count": 5,
   "metadata": {},
   "outputs": [],
   "source": [
    "if subject_xls is None:\n",
    "    subject_xls = os.path.join(subject_path, 'YM' + mouse_number + ' exp_sheet.xlsx') # Cody: this first condition I understand\n",
    "else:\n",
    "    if not subject_xls[-4:] == 'xlsx':\n",
    "        subject_xls = os.path.join(subject_xls, 'YM' + mouse_number + ' exp_sheet.xlsx') # Cody: this one seems odd\n",
    "        \n",
    "# Cody: also, the data I recently retrieved from the lab has no .xlsx files"
   ]
  },
  {
   "cell_type": "code",
   "execution_count": 6,
   "metadata": {},
   "outputs": [
    {
     "name": "stdout",
     "output_type": "stream",
     "text": [
      "D:\\BuzsakiData\\SenzaiY\\YutaMouse41\\YM41 exp_sheet.xlsx\n"
     ]
    }
   ],
   "source": [
    "print(subject_xls)"
   ]
  },
  {
   "cell_type": "code",
   "execution_count": 7,
   "metadata": {},
   "outputs": [
    {
     "name": "stdout",
     "output_type": "stream",
     "text": [
      "2015-09-03 00:00:00\n"
     ]
    }
   ],
   "source": [
    "session_start_time = dateparse(date_text, yearfirst=True)\n",
    "print(session_start_time)"
   ]
  },
  {
   "cell_type": "code",
   "execution_count": 8,
   "metadata": {},
   "outputs": [],
   "source": [
    "df = pd.read_excel(subject_xls)"
   ]
  },
  {
   "cell_type": "code",
   "execution_count": 9,
   "metadata": {},
   "outputs": [],
   "source": [
    "subject_data = {}\n",
    "for key in ['genotype', 'DOB', 'implantation', 'Probe', 'Surgery', 'virus injection', 'mouseID']:\n",
    "    names = df.iloc[:, 0]\n",
    "    if key in names.values:\n",
    "        subject_data[key] = df.iloc[np.argmax(names == key), 1]\n",
    "        \n",
    "if isinstance(subject_data['DOB'], datetime):\n",
    "    age = session_start_time - subject_data['DOB']\n",
    "else:\n",
    "    age = None\n",
    "\n",
    "subject = Subject(subject_id=subject_id, age=str(age),\n",
    "                  genotype=subject_data['genotype'],\n",
    "                  species='mouse') # I thought species was supposed to be the latin name?"
   ]
  },
  {
   "cell_type": "code",
   "execution_count": 18,
   "metadata": {},
   "outputs": [],
   "source": [
    "nwbfile = NWBFile(session_description='mouse in open exploration and theta maze',\n",
    "                      identifier=identifier,\n",
    "                      session_start_time=session_start_time.astimezone(),\n",
    "                      file_create_date=datetime.now().astimezone(),\n",
    "                      experimenter='Yuta Senzai',\n",
    "                      session_id=session_id,\n",
    "                      institution='NYU',\n",
    "                      lab='Buzsaki',\n",
    "                      subject=subject,\n",
    "                      related_publications='DOI:10.1016/j.neuron.2016.12.011')"
   ]
  },
  {
   "cell_type": "code",
   "execution_count": 19,
   "metadata": {},
   "outputs": [
    {
     "data": {
      "text/plain": [
       "root pynwb.file.NWBFile at 0x2896137111496\n",
       "Fields:\n",
       "  experimenter: ['Yuta Senzai']\n",
       "  file_create_date: [datetime.datetime(2020, 6, 15, 13, 55, 5, 172076, tzinfo=datetime.timezone(datetime.timedelta(days=-1, seconds=72000), 'US Eastern Daylight Time'))]\n",
       "  identifier: YutaMouse41-150903\n",
       "  institution: NYU\n",
       "  lab: Buzsaki\n",
       "  related_publications: ['DOI:10.1016/j.neuron.2016.12.011']\n",
       "  session_description: mouse in open exploration and theta maze\n",
       "  session_id: YutaMouse41-150903\n",
       "  session_start_time: 2015-09-03 00:00:00-04:00\n",
       "  subject: subject pynwb.file.Subject at 0x2896132298120\n",
       "Fields:\n",
       "  age: 346 days 00:00:00\n",
       "  genotype: POMC-Cre::Arch\n",
       "  species: mouse\n",
       "  subject_id: YutaMouse41\n",
       "\n",
       "  timestamps_reference_time: 2015-09-03 00:00:00-04:00"
      ]
     },
     "execution_count": 19,
     "metadata": {},
     "output_type": "execute_result"
    }
   ],
   "source": [
    "nwbfile"
   ]
  },
  {
   "cell_type": "code",
   "execution_count": 11,
   "metadata": {},
   "outputs": [
    {
     "name": "stdout",
     "output_type": "stream",
     "text": [
      "reading and writing raw position data...warning: time may not be aligned\n"
     ]
    }
   ],
   "source": [
    "print('reading and writing raw position data...', end='', flush=True)\n",
    "ns.add_position_data(nwbfile, session_path)"
   ]
  },
  {
   "cell_type": "code",
   "execution_count": 12,
   "metadata": {},
   "outputs": [
    {
     "data": {
      "text/plain": [
       "array([[   nan,    nan],\n",
       "       [   nan,    nan],\n",
       "       [   nan,    nan],\n",
       "       ...,\n",
       "       [362.  , 171.  ],\n",
       "       [362.  , 171.13],\n",
       "       [362.  , 171.94]])"
      ]
     },
     "execution_count": 12,
     "metadata": {},
     "output_type": "execute_result"
    }
   ],
   "source": [
    "nwbfile.acquisition['position_sensor0'].data[()]"
   ]
  },
  {
   "cell_type": "code",
   "execution_count": 13,
   "metadata": {},
   "outputs": [],
   "source": [
    "shank_channels = ns.get_shank_channels(session_path)[:8] # Cody: why [:8]?\n",
    "all_shank_channels = np.concatenate(shank_channels)"
   ]
  },
  {
   "cell_type": "code",
   "execution_count": 14,
   "metadata": {},
   "outputs": [
    {
     "data": {
      "text/plain": [
       "[[33, 38, 32, 39, 35, 36, 34, 37],\n",
       " [41, 46, 40, 47, 43, 44, 42, 45],\n",
       " [16, 25, 17, 24, 18, 22, 20, 21],\n",
       " [26, 19, 28, 23, 29, 27, 30, 31],\n",
       " [13, 4, 9, 2, 5, 3, 1, 0],\n",
       " [7, 14, 6, 15, 8, 12, 11, 10],\n",
       " [48, 55, 49, 54, 50, 53, 51, 52],\n",
       " [56, 63, 57, 62, 58, 61, 59, 60]]"
      ]
     },
     "execution_count": 14,
     "metadata": {},
     "output_type": "execute_result"
    }
   ],
   "source": [
    "shank_channels"
   ]
  },
  {
   "cell_type": "code",
   "execution_count": 15,
   "metadata": {},
   "outputs": [
    {
     "data": {
      "text/plain": [
       "[[33, 38, 32, 39, 35, 36, 34, 37],\n",
       " [41, 46, 40, 47, 43, 44, 42, 45],\n",
       " [16, 25, 17, 24, 18, 22, 20, 21],\n",
       " [26, 19, 28, 23, 29, 27, 30, 31],\n",
       " [13, 4, 9, 2, 5, 3, 1, 0],\n",
       " [7, 14, 6, 15, 8, 12, 11, 10],\n",
       " [48, 55, 49, 54, 50, 53, 51, 52],\n",
       " [56, 63, 57, 62, 58, 61, 59, 60]]"
      ]
     },
     "execution_count": 15,
     "metadata": {},
     "output_type": "execute_result"
    }
   ],
   "source": [
    "ns.get_shank_channels(session_path)"
   ]
  },
  {
   "cell_type": "code",
   "execution_count": 16,
   "metadata": {},
   "outputs": [
    {
     "name": "stdout",
     "output_type": "stream",
     "text": [
      "setting up electrodes..."
     ]
    },
    {
     "ename": "NameError",
     "evalue": "name 'get_reference_elec' is not defined",
     "output_type": "error",
     "traceback": [
      "\u001b[1;31m---------------------------------------------------------------------------\u001b[0m",
      "\u001b[1;31mNameError\u001b[0m                                 Traceback (most recent call last)",
      "\u001b[1;32m<ipython-input-16-2356308e7687>\u001b[0m in \u001b[0;36m<module>\u001b[1;34m\u001b[0m\n\u001b[0;32m      1\u001b[0m \u001b[0mprint\u001b[0m\u001b[1;33m(\u001b[0m\u001b[1;34m'setting up electrodes...'\u001b[0m\u001b[1;33m,\u001b[0m \u001b[0mend\u001b[0m\u001b[1;33m=\u001b[0m\u001b[1;34m''\u001b[0m\u001b[1;33m,\u001b[0m \u001b[0mflush\u001b[0m\u001b[1;33m=\u001b[0m\u001b[1;32mTrue\u001b[0m\u001b[1;33m)\u001b[0m\u001b[1;33m\u001b[0m\u001b[1;33m\u001b[0m\u001b[0m\n\u001b[0;32m      2\u001b[0m \u001b[0mhilus_csv_path\u001b[0m \u001b[1;33m=\u001b[0m \u001b[0mos\u001b[0m\u001b[1;33m.\u001b[0m\u001b[0mpath\u001b[0m\u001b[1;33m.\u001b[0m\u001b[0mjoin\u001b[0m\u001b[1;33m(\u001b[0m\u001b[0mfpath_base\u001b[0m\u001b[1;33m,\u001b[0m \u001b[1;34m'early_session_hilus_chans.csv'\u001b[0m\u001b[1;33m)\u001b[0m\u001b[1;33m\u001b[0m\u001b[1;33m\u001b[0m\u001b[0m\n\u001b[1;32m----> 3\u001b[1;33m \u001b[0mlfp_channel\u001b[0m \u001b[1;33m=\u001b[0m \u001b[0mget_reference_elec\u001b[0m\u001b[1;33m(\u001b[0m\u001b[0msubject_xls\u001b[0m\u001b[1;33m,\u001b[0m \u001b[0mhilus_csv_path\u001b[0m\u001b[1;33m,\u001b[0m \u001b[0msession_start_time\u001b[0m\u001b[1;33m,\u001b[0m \u001b[0msession_id\u001b[0m\u001b[1;33m,\u001b[0m \u001b[0mb\u001b[0m\u001b[1;33m=\u001b[0m\u001b[0mb\u001b[0m\u001b[1;33m)\u001b[0m\u001b[1;33m\u001b[0m\u001b[1;33m\u001b[0m\u001b[0m\n\u001b[0m\u001b[0;32m      4\u001b[0m \u001b[0mprint\u001b[0m\u001b[1;33m(\u001b[0m\u001b[0mlfp_channel\u001b[0m\u001b[1;33m)\u001b[0m\u001b[1;33m\u001b[0m\u001b[1;33m\u001b[0m\u001b[0m\n\u001b[0;32m      5\u001b[0m custom_column = [{'name': 'theta_reference',\n",
      "\u001b[1;31mNameError\u001b[0m: name 'get_reference_elec' is not defined"
     ]
    }
   ],
   "source": [
    "print('setting up electrodes...', end='', flush=True)\n",
    "hilus_csv_path = os.path.join(fpath_base, 'early_session_hilus_chans.csv')\n",
    "lfp_channel = get_reference_elec(subject_xls, hilus_csv_path, session_start_time, session_id, b=b)\n",
    "print(lfp_channel)\n",
    "custom_column = [{'name': 'theta_reference',\n",
    "                  'description': 'this electrode was used to calculate LFP canonical bands',\n",
    "                  'data': all_shank_channels == lfp_channel}]\n",
    "ns.write_electrode_table(nwbfile, session_path, custom_columns=custom_column, max_shanks=max_shanks)\n",
    "\n",
    "print('reading LFPs...', end='', flush=True)\n",
    "lfp_fs, all_channels_data = ns.read_lfp(session_path, stub=stub)\n",
    "\n",
    "lfp_data = all_channels_data[:, all_shank_channels]\n",
    "print('writing LFPs...', flush=True)\n",
    "# lfp_data[:int(len(lfp_data)/4)]\n",
    "lfp_ts = ns.write_lfp(nwbfile, lfp_data, lfp_fs, name='lfp',\n",
    "                      description='lfp signal for all shank electrodes')\n",
    "\n",
    "for name, channel in special_electrode_dict.items():\n",
    "    ts = TimeSeries(name=name, description='environmental electrode recorded inline with neural data',\n",
    "                    data=all_channels_data[:, channel], rate=lfp_fs, unit='V', conversion=np.nan, resolution=np.nan)\n",
    "    nwbfile.add_acquisition(ts)"
   ]
  }
 ],
 "metadata": {
  "kernelspec": {
   "display_name": "Python 3",
   "language": "python",
   "name": "python3"
  },
  "language_info": {
   "codemirror_mode": {
    "name": "ipython",
    "version": 3
   },
   "file_extension": ".py",
   "mimetype": "text/x-python",
   "name": "python",
   "nbconvert_exporter": "python",
   "pygments_lexer": "ipython3",
   "version": "3.7.6"
  }
 },
 "nbformat": 4,
 "nbformat_minor": 4
}
