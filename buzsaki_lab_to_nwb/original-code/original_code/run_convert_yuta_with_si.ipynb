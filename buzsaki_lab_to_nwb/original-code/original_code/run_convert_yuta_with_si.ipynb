{
 "cells": [
  {
   "cell_type": "code",
   "execution_count": 1,
   "metadata": {},
   "outputs": [
    {
     "name": "stdout",
     "output_type": "stream",
     "text": [
      "reading and writing raw position data...warning: time may not be aligned\n",
      "setting up electrodes...0\n",
      "reading raw electrode data...writing raw electrode data...\n"
     ]
    },
    {
     "name": "stderr",
     "output_type": "stream",
     "text": [
      "writing raw electrode data: 100%|█████████████████████████████████████████████| 1000/1000 [00:00<00:00, 1030794.79it/s]"
     ]
    },
    {
     "name": "stdout",
     "output_type": "stream",
     "text": [
      "reading LFPs...writing LFPs...\n"
     ]
    },
    {
     "name": "stderr",
     "output_type": "stream",
     "text": [
      "\n",
      "writing lfp data: 100%|███████████████████████████████████████████████████████| 1000/1000 [00:00<00:00, 1002942.13it/s]"
     ]
    },
    {
     "name": "stdout",
     "output_type": "stream",
     "text": [
      "filtering LFP...done.\n",
      "writing waveforms..."
     ]
    },
    {
     "name": "stderr",
     "output_type": "stream",
     "text": [
      "\n"
     ]
    },
    {
     "name": "stdout",
     "output_type": "stream",
     "text": [
      "done.\n",
      "loading position for OpenFieldPosition_ExtraLarge...done.\n",
      "loading position for OpenFieldPosition_New_Curtain...done.\n",
      "loading position for OpenFieldPosition_New...done.\n",
      "loading position for OpenFieldPosition_Old_Curtain...done.\n",
      "loading position for OpenFieldPosition_Old...done.\n",
      "loading position for OpenFieldPosition_Oldlast...done.\n",
      "loading position for EightMazePosition...done.\n",
      "writing NWB file..."
     ]
    },
    {
     "name": "stderr",
     "output_type": "stream",
     "text": [
      "C:\\Users\\Raven\\anaconda3\\lib\\site-packages\\hdmf\\build\\objectmapper.py:225: DtypeConversionWarning: Spec 'SpikeEventSeries/timestamps': Value with data type int32 is being converted to data type float64 as specified.\n",
      "  warnings.warn(full_warning_msg, DtypeConversionWarning)\n",
      "C:\\Users\\Raven\\anaconda3\\lib\\site-packages\\hdmf\\build\\objectmapper.py:225: DtypeConversionWarning: Spec 'SpatialSeries/timestamps': Value with data type float64 is being converted to data type float64 as specified.\n",
      "  warnings.warn(full_warning_msg, DtypeConversionWarning)\n",
      "C:\\Users\\Raven\\anaconda3\\lib\\site-packages\\hdmf\\build\\objectmapper.py:225: DtypeConversionWarning: Spec 'TimeIntervals/start_time': Value with data type uint16 is being converted to data type float32 as specified.\n",
      "  warnings.warn(full_warning_msg, DtypeConversionWarning)\n",
      "C:\\Users\\Raven\\anaconda3\\lib\\site-packages\\hdmf\\build\\objectmapper.py:225: DtypeConversionWarning: Spec 'TimeIntervals/stop_time': Value with data type uint16 is being converted to data type float32 as specified.\n",
      "  warnings.warn(full_warning_msg, DtypeConversionWarning)\n"
     ]
    },
    {
     "name": "stdout",
     "output_type": "stream",
     "text": [
      "done.\n",
      "testing read...done.\n",
      "writing clustered spikes...1 0\n",
      "[1, 2, 3, 4, 5, 6]\n"
     ]
    },
    {
     "name": "stderr",
     "output_type": "stream",
     "text": [
      "C:\\Users\\Raven\\anaconda3\\lib\\site-packages\\hdmf\\common\\table.py:330: UserWarning: An attribute 'spike_times' already exists on Units 'units' so this column cannot be accessed as an attribute, e.g., table.spike_times; it can only be accessed using other methods, e.g., table['spike_times'].\n",
      "  warn(msg)\n"
     ]
    },
    {
     "name": "stdout",
     "output_type": "stream",
     "text": [
      "2 6\n",
      "[]\n",
      "3 6\n",
      "[7, 8, 9, 10, 11, 12]\n"
     ]
    },
    {
     "ename": "ValueError",
     "evalue": "7 is an invalid unit_id. Valid ids: [1, 2, 3, 4, 5, 6]",
     "output_type": "error",
     "traceback": [
      "\u001b[1;31m---------------------------------------------------------------------------\u001b[0m",
      "\u001b[1;31mValueError\u001b[0m                                Traceback (most recent call last)",
      "\u001b[1;32m<ipython-input-1-567bce686123>\u001b[0m in \u001b[0;36m<module>\u001b[1;34m\u001b[0m\n\u001b[0;32m      2\u001b[0m \u001b[1;33m\u001b[0m\u001b[0m\n\u001b[0;32m      3\u001b[0m convert_yuta.yuta2nwb_with_si(session_path='D:/BuzsakiData/SenzaiY/YutaMouse41/YutaMouse41-150903',\n\u001b[1;32m----> 4\u001b[1;33m                       include_spike_waveforms=True)\n\u001b[0m",
      "\u001b[1;32mD:\\GitHub\\buzsaki-lab-to-nwb\\buzsaki_lab_to_nwb\\original-code\\original_code\\convert_yuta.py\u001b[0m in \u001b[0;36myuta2nwb_with_si\u001b[1;34m(session_path, subject_xls, include_spike_waveforms, stub, cache_spec)\u001b[0m\n\u001b[0;32m    678\u001b[0m     \u001b[1;32mif\u001b[0m \u001b[0minclude_spike_waveforms\u001b[0m\u001b[1;33m:\u001b[0m\u001b[1;33m\u001b[0m\u001b[1;33m\u001b[0m\u001b[0m\n\u001b[0;32m    679\u001b[0m         \u001b[0mprint\u001b[0m\u001b[1;33m(\u001b[0m\u001b[1;34m'writing clustered spikes...'\u001b[0m\u001b[1;33m,\u001b[0m \u001b[0mend\u001b[0m\u001b[1;33m=\u001b[0m\u001b[1;34m''\u001b[0m\u001b[1;33m,\u001b[0m \u001b[0mflush\u001b[0m\u001b[1;33m=\u001b[0m\u001b[1;32mTrue\u001b[0m\u001b[1;33m)\u001b[0m\u001b[1;33m\u001b[0m\u001b[1;33m\u001b[0m\u001b[0m\n\u001b[1;32m--> 680\u001b[1;33m         \u001b[0mns\u001b[0m\u001b[1;33m.\u001b[0m\u001b[0madd_units_with_si\u001b[0m\u001b[1;33m(\u001b[0m\u001b[0mout_fname\u001b[0m\u001b[1;33m,\u001b[0m \u001b[0msession_path\u001b[0m\u001b[1;33m)\u001b[0m\u001b[1;33m\u001b[0m\u001b[1;33m\u001b[0m\u001b[0m\n\u001b[0m\u001b[0;32m    681\u001b[0m \u001b[1;33m\u001b[0m\u001b[0m\n\u001b[0;32m    682\u001b[0m         \u001b[0mprint\u001b[0m\u001b[1;33m(\u001b[0m\u001b[1;34m'done.'\u001b[0m\u001b[1;33m,\u001b[0m \u001b[0mflush\u001b[0m\u001b[1;33m=\u001b[0m\u001b[1;32mTrue\u001b[0m\u001b[1;33m)\u001b[0m\u001b[1;33m\u001b[0m\u001b[1;33m\u001b[0m\u001b[0m\n",
      "\u001b[1;32mD:\\GitHub\\buzsaki-lab-to-nwb\\buzsaki_lab_to_nwb\\original-code\\original_code\\neuroscope.py\u001b[0m in \u001b[0;36madd_units_with_si\u001b[1;34m(nwbfile_path, session_path, max_shanks)\u001b[0m\n\u001b[0;32m    852\u001b[0m         \u001b[0mcounter\u001b[0m \u001b[1;33m+=\u001b[0m \u001b[0mlen\u001b[0m\u001b[1;33m(\u001b[0m\u001b[0mnse\u001b[0m\u001b[1;33m.\u001b[0m\u001b[0mget_unit_ids\u001b[0m\u001b[1;33m(\u001b[0m\u001b[1;33m)\u001b[0m\u001b[1;33m)\u001b[0m\u001b[1;33m\u001b[0m\u001b[1;33m\u001b[0m\u001b[0m\n\u001b[0;32m    853\u001b[0m         \u001b[0mprint\u001b[0m\u001b[1;33m(\u001b[0m\u001b[0mnse\u001b[0m\u001b[1;33m.\u001b[0m\u001b[0mget_unit_ids\u001b[0m\u001b[1;33m(\u001b[0m\u001b[1;33m)\u001b[0m\u001b[1;33m)\u001b[0m\u001b[1;33m\u001b[0m\u001b[1;33m\u001b[0m\u001b[0m\n\u001b[1;32m--> 854\u001b[1;33m         \u001b[0mse\u001b[0m\u001b[1;33m.\u001b[0m\u001b[0mNwbSortingExtractor\u001b[0m\u001b[1;33m.\u001b[0m\u001b[0mwrite_sorting\u001b[0m\u001b[1;33m(\u001b[0m\u001b[0mnse\u001b[0m\u001b[1;33m,\u001b[0m\u001b[0mnwbfile_path\u001b[0m\u001b[1;33m)\u001b[0m\u001b[1;33m\u001b[0m\u001b[1;33m\u001b[0m\u001b[0m\n\u001b[0m\u001b[0;32m    855\u001b[0m \u001b[1;33m\u001b[0m\u001b[0m\n",
      "\u001b[1;32md:\\github\\spikeextractors\\spikeextractors\\extractors\\nwbextractors\\nwbextractors.py\u001b[0m in \u001b[0;36mwrite_sorting\u001b[1;34m(sorting, save_path, **nwbfile_kwargs)\u001b[0m\n\u001b[0;32m    761\u001b[0m \u001b[1;33m\u001b[0m\u001b[0m\n\u001b[0;32m    762\u001b[0m             \u001b[1;31m# Units spike features\u001b[0m\u001b[1;33m\u001b[0m\u001b[1;33m\u001b[0m\u001b[1;33m\u001b[0m\u001b[0m\n\u001b[1;32m--> 763\u001b[1;33m             \u001b[0mnspikes\u001b[0m \u001b[1;33m=\u001b[0m \u001b[1;33m{\u001b[0m\u001b[0mk\u001b[0m\u001b[1;33m:\u001b[0m \u001b[0mget_nspikes\u001b[0m\u001b[1;33m(\u001b[0m\u001b[0mnwbfile\u001b[0m\u001b[1;33m.\u001b[0m\u001b[0munits\u001b[0m\u001b[1;33m,\u001b[0m \u001b[0mint\u001b[0m\u001b[1;33m(\u001b[0m\u001b[0mk\u001b[0m\u001b[1;33m)\u001b[0m\u001b[1;33m)\u001b[0m \u001b[1;32mfor\u001b[0m \u001b[0mk\u001b[0m \u001b[1;32min\u001b[0m \u001b[0mids\u001b[0m\u001b[1;33m}\u001b[0m\u001b[1;33m\u001b[0m\u001b[1;33m\u001b[0m\u001b[0m\n\u001b[0m\u001b[0;32m    764\u001b[0m             \u001b[1;32mfor\u001b[0m \u001b[0mft\u001b[0m \u001b[1;32min\u001b[0m \u001b[0mall_features\u001b[0m\u001b[1;33m:\u001b[0m\u001b[1;33m\u001b[0m\u001b[1;33m\u001b[0m\u001b[0m\n\u001b[0;32m    765\u001b[0m                 vals = [v[ft] if ft in v else [np.nan] * nspikes[int(k)]\n",
      "\u001b[1;32md:\\github\\spikeextractors\\spikeextractors\\extractors\\nwbextractors\\nwbextractors.py\u001b[0m in \u001b[0;36m<dictcomp>\u001b[1;34m(.0)\u001b[0m\n\u001b[0;32m    761\u001b[0m \u001b[1;33m\u001b[0m\u001b[0m\n\u001b[0;32m    762\u001b[0m             \u001b[1;31m# Units spike features\u001b[0m\u001b[1;33m\u001b[0m\u001b[1;33m\u001b[0m\u001b[1;33m\u001b[0m\u001b[0m\n\u001b[1;32m--> 763\u001b[1;33m             \u001b[0mnspikes\u001b[0m \u001b[1;33m=\u001b[0m \u001b[1;33m{\u001b[0m\u001b[0mk\u001b[0m\u001b[1;33m:\u001b[0m \u001b[0mget_nspikes\u001b[0m\u001b[1;33m(\u001b[0m\u001b[0mnwbfile\u001b[0m\u001b[1;33m.\u001b[0m\u001b[0munits\u001b[0m\u001b[1;33m,\u001b[0m \u001b[0mint\u001b[0m\u001b[1;33m(\u001b[0m\u001b[0mk\u001b[0m\u001b[1;33m)\u001b[0m\u001b[1;33m)\u001b[0m \u001b[1;32mfor\u001b[0m \u001b[0mk\u001b[0m \u001b[1;32min\u001b[0m \u001b[0mids\u001b[0m\u001b[1;33m}\u001b[0m\u001b[1;33m\u001b[0m\u001b[1;33m\u001b[0m\u001b[0m\n\u001b[0m\u001b[0;32m    764\u001b[0m             \u001b[1;32mfor\u001b[0m \u001b[0mft\u001b[0m \u001b[1;32min\u001b[0m \u001b[0mall_features\u001b[0m\u001b[1;33m:\u001b[0m\u001b[1;33m\u001b[0m\u001b[1;33m\u001b[0m\u001b[0m\n\u001b[0;32m    765\u001b[0m                 vals = [v[ft] if ft in v else [np.nan] * nspikes[int(k)]\n",
      "\u001b[1;32md:\\github\\spikeextractors\\spikeextractors\\extractors\\nwbextractors\\nwbextractors.py\u001b[0m in \u001b[0;36mget_nspikes\u001b[1;34m(units_table, unit_id)\u001b[0m\n\u001b[0;32m     95\u001b[0m     \u001b[1;32mif\u001b[0m \u001b[0munit_id\u001b[0m \u001b[1;32mnot\u001b[0m \u001b[1;32min\u001b[0m \u001b[0munits_table\u001b[0m\u001b[1;33m.\u001b[0m\u001b[0mid\u001b[0m\u001b[1;33m[\u001b[0m\u001b[1;33m:\u001b[0m\u001b[1;33m]\u001b[0m\u001b[1;33m:\u001b[0m\u001b[1;33m\u001b[0m\u001b[1;33m\u001b[0m\u001b[0m\n\u001b[0;32m     96\u001b[0m         raise ValueError(str(unit_id) + \" is an invalid unit_id. \"\n\u001b[1;32m---> 97\u001b[1;33m                          \"Valid ids: \" + str(units_table.id[:].tolist()))\n\u001b[0m\u001b[0;32m     98\u001b[0m     \u001b[0mnSpikes\u001b[0m \u001b[1;33m=\u001b[0m \u001b[0mnp\u001b[0m\u001b[1;33m.\u001b[0m\u001b[0mdiff\u001b[0m\u001b[1;33m(\u001b[0m\u001b[1;33m[\u001b[0m\u001b[1;36m0\u001b[0m\u001b[1;33m]\u001b[0m \u001b[1;33m+\u001b[0m \u001b[0mlist\u001b[0m\u001b[1;33m(\u001b[0m\u001b[0munits_table\u001b[0m\u001b[1;33m[\u001b[0m\u001b[1;34m'spike_times_index'\u001b[0m\u001b[1;33m]\u001b[0m\u001b[1;33m.\u001b[0m\u001b[0mdata\u001b[0m\u001b[1;33m[\u001b[0m\u001b[1;33m:\u001b[0m\u001b[1;33m]\u001b[0m\u001b[1;33m)\u001b[0m\u001b[1;33m)\u001b[0m\u001b[1;33m.\u001b[0m\u001b[0mtolist\u001b[0m\u001b[1;33m(\u001b[0m\u001b[1;33m)\u001b[0m\u001b[1;33m\u001b[0m\u001b[1;33m\u001b[0m\u001b[0m\n\u001b[0;32m     99\u001b[0m     \u001b[0mind\u001b[0m \u001b[1;33m=\u001b[0m \u001b[0mnp\u001b[0m\u001b[1;33m.\u001b[0m\u001b[0mwhere\u001b[0m\u001b[1;33m(\u001b[0m\u001b[0mnp\u001b[0m\u001b[1;33m.\u001b[0m\u001b[0marray\u001b[0m\u001b[1;33m(\u001b[0m\u001b[0munits_table\u001b[0m\u001b[1;33m.\u001b[0m\u001b[0mid\u001b[0m\u001b[1;33m[\u001b[0m\u001b[1;33m:\u001b[0m\u001b[1;33m]\u001b[0m\u001b[1;33m)\u001b[0m \u001b[1;33m==\u001b[0m \u001b[0munit_id\u001b[0m\u001b[1;33m)\u001b[0m\u001b[1;33m[\u001b[0m\u001b[1;36m0\u001b[0m\u001b[1;33m]\u001b[0m\u001b[1;33m[\u001b[0m\u001b[1;36m0\u001b[0m\u001b[1;33m]\u001b[0m\u001b[1;33m\u001b[0m\u001b[1;33m\u001b[0m\u001b[0m\n",
      "\u001b[1;31mValueError\u001b[0m: 7 is an invalid unit_id. Valid ids: [1, 2, 3, 4, 5, 6]"
     ]
    }
   ],
   "source": [
    "import convert_yuta\n",
    "\n",
    "convert_yuta.yuta2nwb_with_si(session_path='D:/BuzsakiData/SenzaiY/YutaMouse41/YutaMouse41-150903',\n",
    "                      include_spike_waveforms=True)"
   ]
  },
  {
   "cell_type": "code",
   "execution_count": null,
   "metadata": {},
   "outputs": [],
   "source": []
  }
 ],
 "metadata": {
  "kernelspec": {
   "display_name": "Python 3",
   "language": "python",
   "name": "python3"
  },
  "language_info": {
   "codemirror_mode": {
    "name": "ipython",
    "version": 3
   },
   "file_extension": ".py",
   "mimetype": "text/x-python",
   "name": "python",
   "nbconvert_exporter": "python",
   "pygments_lexer": "ipython3",
   "version": "3.7.6"
  }
 },
 "nbformat": 4,
 "nbformat_minor": 4
}
