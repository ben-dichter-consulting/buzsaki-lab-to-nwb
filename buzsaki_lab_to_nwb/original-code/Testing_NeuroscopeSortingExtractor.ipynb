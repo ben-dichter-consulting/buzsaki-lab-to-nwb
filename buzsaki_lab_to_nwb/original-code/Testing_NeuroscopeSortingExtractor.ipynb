{
 "cells": [
  {
   "cell_type": "code",
   "execution_count": null,
   "metadata": {},
   "outputs": [],
   "source": [
    "import spikeinterface.widgets as sw\n",
    "import spikeinterface.extractors as se\n",
    "import numpy as np\n",
    "import os\n",
    "%matplotlib notebook"
   ]
  },
  {
   "cell_type": "markdown",
   "metadata": {},
   "source": [
    "# Testing original functionality"
   ]
  },
  {
   "cell_type": "code",
   "execution_count": null,
   "metadata": {},
   "outputs": [],
   "source": [
    "# Generate test data\n",
    "np.random.seed(1234)\n",
    "\n",
    "nUnits = 8;\n",
    "avgFiringRate = 10; # Hz\n",
    "recordingLength = 60; # in seconds\n",
    "\n",
    "# Generate spike times\n",
    "numSpikes = np.random.poisson(avgFiringRate*nUnits);\n",
    "spikeTimes = np.random.uniform(0,recordingLength,numSpikes);\n",
    "spikeTimes.sort(); # .res format expects total spikes to be in order\n",
    "\n",
    "# Generate indices of spikes from 1...nUnits + 1\n",
    "spikeInds = np.random.randint(1,nUnits+1,numSpikes);"
   ]
  },
  {
   "cell_type": "code",
   "execution_count": null,
   "metadata": {},
   "outputs": [],
   "source": [
    "print(numSpikes)\n",
    "print(spikeTimes)\n",
    "print(spikeInds)"
   ]
  },
  {
   "cell_type": "code",
   "execution_count": null,
   "metadata": {},
   "outputs": [],
   "source": [
    "# Save test data\n",
    "f1 = open(\"TestData.res\",\"w+\")\n",
    "f2 = open(\"TestData.clu\",\"w+\")\n",
    "f2.write(\"%d\\n\" % nUnits)\n",
    "for j in range(numSpikes):\n",
    "    f1.write(\"%d\\n\" % spikeTimes[j])\n",
    "    f2.write(\"%d\\n\" % spikeInds[j])\n",
    "    \n",
    "f1.close() \n",
    "f2.close()"
   ]
  },
  {
   "cell_type": "code",
   "execution_count": null,
   "metadata": {},
   "outputs": [],
   "source": [
    "testNSE = se.NeuroscopeSortingExtractor('./TestData.res',\n",
    "                                        './TestData.clu')"
   ]
  },
  {
   "cell_type": "code",
   "execution_count": null,
   "metadata": {},
   "outputs": [],
   "source": [
    "print('Units', testNSE.get_unit_ids())\n",
    "for i in testNSE.get_unit_ids():\n",
    "    print('Spike Times for unit', i, ': ', testNSE.get_unit_spike_train(i))\n",
    "    \n",
    "# Following the recent fix, this will now ignore cluster ID nUnits, since it expects it to range from 0,...,nUnits-1"
   ]
  },
  {
   "cell_type": "code",
   "execution_count": null,
   "metadata": {},
   "outputs": [],
   "source": [
    "w_rs = sw.plot_rasters(testNSE,sampling_frequency=1) # This all works fine with the original functionality"
   ]
  },
  {
   "cell_type": "markdown",
   "metadata": {},
   "source": [
    "# Testing new default functionality"
   ]
  },
  {
   "cell_type": "code",
   "execution_count": null,
   "metadata": {},
   "outputs": [],
   "source": [
    "# Now, re-generate the data but force spikeInds to go from 0 to 7 instead of 1 to 8,\n",
    "# which is the actual Neuroscope format.\n",
    "#\n",
    "# Additionally, the 0 index group consists of unsorted spikes\n",
    "# while the 1 index group consists of multi-unit recordings as well...\n",
    "\n",
    "# Generate test data\n",
    "np.random.seed(1234)\n",
    "\n",
    "nUnits = 8;\n",
    "avgFiringRate = 10; # Hz\n",
    "recordingLength = 60; # in seconds\n",
    "\n",
    "# Generate spike times\n",
    "numSpikes = np.random.poisson(avgFiringRate*nUnits);\n",
    "spikeTimes = np.random.uniform(0,recordingLength,numSpikes);\n",
    "spikeTimes.sort(); # .res format expects total spikes to be in order\n",
    "\n",
    "# Generate indices of spikes\n",
    "spikeInds = np.random.randint(0,nUnits,numSpikes);"
   ]
  },
  {
   "cell_type": "code",
   "execution_count": null,
   "metadata": {},
   "outputs": [],
   "source": [
    "print(numSpikes)\n",
    "print(spikeTimes)\n",
    "print(spikeInds)"
   ]
  },
  {
   "cell_type": "code",
   "execution_count": null,
   "metadata": {},
   "outputs": [],
   "source": [
    "# Save test data\n",
    "f1 = open(\"TestData.res\",\"w+\")\n",
    "f2 = open(\"TestData.clu\",\"w+\")\n",
    "f2.write(\"%d\\n\" % nUnits)\n",
    "for j in range(numSpikes):\n",
    "    f1.write(\"%d\\n\" % spikeTimes[j])\n",
    "    f2.write(\"%d\\n\" % spikeInds[j])\n",
    "    \n",
    "f1.close() \n",
    "f2.close()"
   ]
  },
  {
   "cell_type": "code",
   "execution_count": null,
   "metadata": {},
   "outputs": [],
   "source": [
    "testNSE = se.NeuroscopeSortingExtractor('./TestData.res',\n",
    "                                        './TestData.clu')"
   ]
  },
  {
   "cell_type": "code",
   "execution_count": null,
   "metadata": {},
   "outputs": [],
   "source": [
    "print('Units', testNSE.get_unit_ids())\n",
    "for i in testNSE.get_unit_ids():\n",
    "    print('Spike Times for unit', i, ': ', testNSE.get_unit_spike_train(i))\n",
    "    \n",
    "# With the old issue, this final index will be mistakenly empty\n",
    "# With the new fix, it will appropriately read IDs 1,...,nUnits-1, skipping 0"
   ]
  },
  {
   "cell_type": "code",
   "execution_count": null,
   "metadata": {},
   "outputs": [],
   "source": [
    "w_rs = sw.plot_rasters(testNSE,sampling_frequency=1) # This all works fine"
   ]
  },
  {
   "cell_type": "markdown",
   "metadata": {},
   "source": [
    "# Testing new additional option to return multi-unit activity"
   ]
  },
  {
   "cell_type": "code",
   "execution_count": null,
   "metadata": {},
   "outputs": [],
   "source": [
    "testNSE = se.NeuroscopeSortingExtractor('./TestData.res',\n",
    "                                        './TestData.clu',keep_mua_units=False)\n",
    "\n",
    "os.remove('./TestData.res')\n",
    "os.remove('./TestData.clu')"
   ]
  },
  {
   "cell_type": "code",
   "execution_count": null,
   "metadata": {},
   "outputs": [],
   "source": [
    "print('Units', testNSE.get_unit_ids())\n",
    "for i in testNSE.get_unit_ids():\n",
    "    print('Spike Times for unit', i, ': ', testNSE.get_unit_spike_train(i))"
   ]
  },
  {
   "cell_type": "markdown",
   "metadata": {},
   "source": [
    "With the new option, we will have only nUnits-2 total units, still starting from an index of 1"
   ]
  },
  {
   "cell_type": "code",
   "execution_count": null,
   "metadata": {},
   "outputs": [],
   "source": [
    "w_rs = sw.plot_rasters(testNSE,sampling_frequency=1) # This all works fine"
   ]
  },
  {
   "cell_type": "markdown",
   "metadata": {},
   "source": [
    "# Testing neuroscope conversion method"
   ]
  },
  {
   "cell_type": "code",
   "execution_count": null,
   "metadata": {},
   "outputs": [],
   "source": [
    "import spikeinterface.extractors as se\n",
    "\n",
    "res_file = 'D:/BuzsakiData/SenzaiY/YutaMouse41/YutaMouse41-150903/YutaMouse41-150903.res.1'\n",
    "clu_file = 'D:/BuzsakiData/SenzaiY/YutaMouse41/YutaMouse41-150903/YutaMouse41-150903.clu.1'\n",
    "nwbfile_path = 'D:/BuzsakiData/SenzaiY/YutaMouse41/YutaMouse41-150903_stub.nwb'\n",
    "\n",
    "nse = se.NeuroscopeSortingExtractor(res_file,clu_file,keep_mua_units=False)\n",
    "se.NwbSortingExtractor.write_sorting(nse,nwbfile_path)"
   ]
  }
 ],
 "metadata": {
  "kernelspec": {
   "display_name": "Python 3",
   "language": "python",
   "name": "python3"
  },
  "language_info": {
   "codemirror_mode": {
    "name": "ipython",
    "version": 3
   },
   "file_extension": ".py",
   "mimetype": "text/x-python",
   "name": "python",
   "nbconvert_exporter": "python",
   "pygments_lexer": "ipython3",
   "version": "3.7.6"
  }
 },
 "nbformat": 4,
 "nbformat_minor": 4
}
