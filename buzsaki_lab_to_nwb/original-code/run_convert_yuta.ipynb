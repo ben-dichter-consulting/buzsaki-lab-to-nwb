{
 "cells": [
  {
   "cell_type": "code",
   "execution_count": 1,
   "metadata": {},
   "outputs": [
    {
     "name": "stdout",
     "output_type": "stream",
     "text": [
      "reading and writing raw position data...warning: time may not be aligned\n",
      "setting up electrodes...0\n",
      "reading raw electrode data...writing raw electrode data...\n"
     ]
    },
    {
     "name": "stderr",
     "output_type": "stream",
     "text": [
      "writing raw electrode data: 100%|█████████████████████████████████████████████| 1000/1000 [00:00<00:00, 1002942.13it/s]"
     ]
    },
    {
     "name": "stdout",
     "output_type": "stream",
     "text": [
      "writing spiking units..."
     ]
    },
    {
     "name": "stderr",
     "output_type": "stream",
     "text": [
      "\n"
     ]
    },
    {
     "name": "stdout",
     "output_type": "stream",
     "text": [
      "reading LFPs...writing LFPs...\n"
     ]
    },
    {
     "name": "stderr",
     "output_type": "stream",
     "text": [
      "writing lfp data: 100%|███████████████████████████████████████████████████████| 1000/1000 [00:00<00:00, 1001983.76it/s]"
     ]
    },
    {
     "name": "stdout",
     "output_type": "stream",
     "text": [
      "filtering LFP...done.\n",
      "writing waveforms..."
     ]
    },
    {
     "name": "stderr",
     "output_type": "stream",
     "text": [
      "\n"
     ]
    },
    {
     "name": "stdout",
     "output_type": "stream",
     "text": [
      "done.\n",
      "loading position for OpenFieldPosition_ExtraLarge...done.\n",
      "loading position for OpenFieldPosition_New_Curtain...done.\n",
      "loading position for OpenFieldPosition_New...done.\n",
      "loading position for OpenFieldPosition_Old_Curtain...done.\n",
      "loading position for OpenFieldPosition_Old...done.\n",
      "loading position for OpenFieldPosition_Oldlast...done.\n",
      "loading position for EightMazePosition...done.\n",
      "writing NWB file..."
     ]
    },
    {
     "name": "stderr",
     "output_type": "stream",
     "text": [
      "D:\\Users\\Raven\\anaconda3\\lib\\site-packages\\hdmf\\build\\objectmapper.py:233: DtypeConversionWarning: Spec 'SpikeEventSeries/timestamps': Value with data type int32 is being converted to data type float64 as specified.\n",
      "  warnings.warn(full_warning_msg, DtypeConversionWarning)\n",
      "D:\\Users\\Raven\\anaconda3\\lib\\site-packages\\hdmf\\build\\objectmapper.py:233: DtypeConversionWarning: Spec 'SpatialSeries/timestamps': Value with data type float64 is being converted to data type float64 as specified.\n",
      "  warnings.warn(full_warning_msg, DtypeConversionWarning)\n",
      "D:\\Users\\Raven\\anaconda3\\lib\\site-packages\\hdmf\\build\\objectmapper.py:233: DtypeConversionWarning: Spec 'TimeIntervals/start_time': Value with data type uint16 is being converted to data type float32 as specified.\n",
      "  warnings.warn(full_warning_msg, DtypeConversionWarning)\n",
      "D:\\Users\\Raven\\anaconda3\\lib\\site-packages\\hdmf\\build\\objectmapper.py:233: DtypeConversionWarning: Spec 'TimeIntervals/stop_time': Value with data type uint16 is being converted to data type float32 as specified.\n",
      "  warnings.warn(full_warning_msg, DtypeConversionWarning)\n"
     ]
    },
    {
     "name": "stdout",
     "output_type": "stream",
     "text": [
      "done.\n",
      "testing read...done.\n"
     ]
    }
   ],
   "source": [
    "import convert_yuta\n",
    "\n",
    "convert_yuta.yuta2nwb(session_path='D:/BuzsakiData/SenzaiY/YutaMouse41/YutaMouse41-150903',\n",
    "                      include_spike_waveforms=True)"
   ]
  },
  {
   "cell_type": "code",
   "execution_count": null,
   "metadata": {},
   "outputs": [],
   "source": []
  }
 ],
 "metadata": {
  "kernelspec": {
   "display_name": "Python 3",
   "language": "python",
   "name": "python3"
  },
  "language_info": {
   "codemirror_mode": {
    "name": "ipython",
    "version": 3
   },
   "file_extension": ".py",
   "mimetype": "text/x-python",
   "name": "python",
   "nbconvert_exporter": "python",
   "pygments_lexer": "ipython3",
   "version": "3.7.6"
  }
 },
 "nbformat": 4,
 "nbformat_minor": 4
}
