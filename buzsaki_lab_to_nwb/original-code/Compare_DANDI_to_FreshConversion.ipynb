{
 "cells": [
  {
   "cell_type": "code",
   "execution_count": 1,
   "metadata": {},
   "outputs": [],
   "source": [
    "from pynwb import NWBHDF5IO\n",
    "from pynwb import NWBFile\n",
    "\n",
    "io = NWBHDF5IO('D:\\\\BuzsakiData\\\\SenzaiY\\\\YutaMouse41\\\\sub-YutaMouse41_ses-YutaMouse41-150903_behavior+ecephys.nwb', 'r')\n",
    "nwbDANDI = io.read()\n",
    "\n",
    "io = NWBHDF5IO('D:\\\\BuzsakiData\\\\SenzaiY\\\\YutaMouse41\\\\YutaMouse41-150903_stub.nwb', 'r')\n",
    "nwbFreshConversion = io.read()"
   ]
  },
  {
   "cell_type": "code",
   "execution_count": 2,
   "metadata": {},
   "outputs": [
    {
     "data": {
      "text/plain": [
       "root pynwb.file.NWBFile at 0x2232059558728\n",
       "Fields:\n",
       "  acquisition: {\n",
       "    ch_SsolL <class 'pynwb.base.TimeSeries'>,\n",
       "    ch_SsolR <class 'pynwb.base.TimeSeries'>,\n",
       "    ch_arm <class 'pynwb.base.TimeSeries'>,\n",
       "    ch_dig1 <class 'pynwb.base.TimeSeries'>,\n",
       "    ch_dig2 <class 'pynwb.base.TimeSeries'>,\n",
       "    ch_entL <class 'pynwb.base.TimeSeries'>,\n",
       "    ch_entR <class 'pynwb.base.TimeSeries'>,\n",
       "    ch_solL <class 'pynwb.base.TimeSeries'>,\n",
       "    ch_solR <class 'pynwb.base.TimeSeries'>,\n",
       "    ch_wait <class 'pynwb.base.TimeSeries'>,\n",
       "    position_sensor0 <class 'pynwb.behavior.SpatialSeries'>,\n",
       "    position_sensor1 <class 'pynwb.behavior.SpatialSeries'>\n",
       "  }\n",
       "  devices: {\n",
       "    implant <class 'pynwb.device.Device'>\n",
       "  }\n",
       "  electrode_groups: {\n",
       "    shank1 <class 'pynwb.ecephys.ElectrodeGroup'>,\n",
       "    shank2 <class 'pynwb.ecephys.ElectrodeGroup'>,\n",
       "    shank3 <class 'pynwb.ecephys.ElectrodeGroup'>,\n",
       "    shank4 <class 'pynwb.ecephys.ElectrodeGroup'>,\n",
       "    shank5 <class 'pynwb.ecephys.ElectrodeGroup'>,\n",
       "    shank6 <class 'pynwb.ecephys.ElectrodeGroup'>,\n",
       "    shank7 <class 'pynwb.ecephys.ElectrodeGroup'>,\n",
       "    shank8 <class 'pynwb.ecephys.ElectrodeGroup'>\n",
       "  }\n",
       "  electrodes: electrodes <class 'hdmf.common.table.DynamicTable'>\n",
       "  epochs: epochs <class 'pynwb.epoch.TimeIntervals'>\n",
       "  experimenter: ['Yuta Senzai']\n",
       "  file_create_date: [datetime.datetime(2019, 4, 2, 4, 0, 19, 62824, tzinfo=tzoffset(None, -25200))]\n",
       "  identifier: YutaMouse41-150903\n",
       "  institution: NYU\n",
       "  intervals: {\n",
       "    epochs <class 'pynwb.epoch.TimeIntervals'>,\n",
       "    trials <class 'pynwb.epoch.TimeIntervals'>\n",
       "  }\n",
       "  lab: Buzsaki\n",
       "  processing: {\n",
       "    behavior <class 'pynwb.base.ProcessingModule'>,\n",
       "    ecephys <class 'pynwb.base.ProcessingModule'>\n",
       "  }\n",
       "  related_publications: ['DOI:10.1016/j.neuron.2016.12.011']\n",
       "  session_description: mouse in open exploration and theta maze\n",
       "  session_id: YutaMouse41-150903\n",
       "  session_start_time: 2015-09-03 00:00:00-07:00\n",
       "  stimulus: {\n",
       "    DS1.ch0 <class 'pynwb.misc.AnnotationSeries'>,\n",
       "    DS2.ch0 <class 'pynwb.misc.AnnotationSeries'>,\n",
       "    PulseStim_0V_10001ms_LD0 <class 'pynwb.misc.AnnotationSeries'>,\n",
       "    PulseStim_0V_10011ms_LD0 <class 'pynwb.misc.AnnotationSeries'>,\n",
       "    PulseStim_0V_10031ms_LD0 <class 'pynwb.misc.AnnotationSeries'>,\n",
       "    PulseStim_0V_10101ms_LD0 <class 'pynwb.misc.AnnotationSeries'>,\n",
       "    PulseStim_0V_10201ms_LD0 <class 'pynwb.misc.AnnotationSeries'>,\n",
       "    PulseStim_0V_11001ms_LD0 <class 'pynwb.misc.AnnotationSeries'>,\n",
       "    PulseStim_0V_12001ms_LD0 <class 'pynwb.misc.AnnotationSeries'>,\n",
       "    PulseStim_0V_13001ms_LD0 <class 'pynwb.misc.AnnotationSeries'>,\n",
       "    PulseStim_5V_77777ms_LD12 <class 'pynwb.misc.AnnotationSeries'>,\n",
       "    PulseStim_5V_77877ms_LD12 <class 'pynwb.misc.AnnotationSeries'>\n",
       "  }\n",
       "  subject: subject pynwb.file.Subject at 0x2232059559688\n",
       "Fields:\n",
       "  age: 346 days 00:00:00\n",
       "  genotype: POMC-Cre::Arch\n",
       "  species: mouse\n",
       "  subject_id: YutaMouse41\n",
       "\n",
       "  timestamps_reference_time: 2015-09-03 00:00:00-07:00\n",
       "  trials: trials <class 'pynwb.epoch.TimeIntervals'>\n",
       "  units: units <class 'pynwb.misc.Units'>"
      ]
     },
     "execution_count": 2,
     "metadata": {},
     "output_type": "execute_result"
    }
   ],
   "source": [
    "nwbDANDI"
   ]
  },
  {
   "cell_type": "code",
   "execution_count": 3,
   "metadata": {},
   "outputs": [
    {
     "data": {
      "text/plain": [
       "root pynwb.file.NWBFile at 0x2232059985032\n",
       "Fields:\n",
       "  acquisition: {\n",
       "    ES <class 'pynwb.ecephys.ElectricalSeries'>,\n",
       "    ch_SsolL <class 'pynwb.base.TimeSeries'>,\n",
       "    ch_SsolR <class 'pynwb.base.TimeSeries'>,\n",
       "    ch_arm <class 'pynwb.base.TimeSeries'>,\n",
       "    ch_dig1 <class 'pynwb.base.TimeSeries'>,\n",
       "    ch_dig2 <class 'pynwb.base.TimeSeries'>,\n",
       "    ch_entL <class 'pynwb.base.TimeSeries'>,\n",
       "    ch_entR <class 'pynwb.base.TimeSeries'>,\n",
       "    ch_solL <class 'pynwb.base.TimeSeries'>,\n",
       "    ch_solR <class 'pynwb.base.TimeSeries'>,\n",
       "    ch_wait <class 'pynwb.base.TimeSeries'>,\n",
       "    position_sensor0 <class 'pynwb.behavior.SpatialSeries'>,\n",
       "    position_sensor1 <class 'pynwb.behavior.SpatialSeries'>\n",
       "  }\n",
       "  devices: {\n",
       "    implant <class 'pynwb.device.Device'>\n",
       "  }\n",
       "  electrode_groups: {\n",
       "    shank1 <class 'pynwb.ecephys.ElectrodeGroup'>,\n",
       "    shank2 <class 'pynwb.ecephys.ElectrodeGroup'>,\n",
       "    shank3 <class 'pynwb.ecephys.ElectrodeGroup'>,\n",
       "    shank4 <class 'pynwb.ecephys.ElectrodeGroup'>,\n",
       "    shank5 <class 'pynwb.ecephys.ElectrodeGroup'>,\n",
       "    shank6 <class 'pynwb.ecephys.ElectrodeGroup'>,\n",
       "    shank7 <class 'pynwb.ecephys.ElectrodeGroup'>,\n",
       "    shank8 <class 'pynwb.ecephys.ElectrodeGroup'>\n",
       "  }\n",
       "  electrodes: electrodes <class 'hdmf.common.table.DynamicTable'>\n",
       "  epochs: epochs <class 'pynwb.epoch.TimeIntervals'>\n",
       "  experimenter: ['Yuta Senzai']\n",
       "  file_create_date: [datetime.datetime(2020, 6, 28, 17, 21, 14, 222182, tzinfo=tzoffset(None, -14400))]\n",
       "  identifier: YutaMouse41-150903\n",
       "  institution: NYU\n",
       "  intervals: {\n",
       "    epochs <class 'pynwb.epoch.TimeIntervals'>,\n",
       "    trials <class 'pynwb.epoch.TimeIntervals'>\n",
       "  }\n",
       "  lab: Buzsaki\n",
       "  processing: {\n",
       "    behavior <class 'pynwb.base.ProcessingModule'>,\n",
       "    ecephys <class 'pynwb.base.ProcessingModule'>\n",
       "  }\n",
       "  related_publications: ['DOI:10.1016/j.neuron.2016.12.011']\n",
       "  session_description: mouse in open exploration and theta maze\n",
       "  session_id: YutaMouse41-150903\n",
       "  session_start_time: 2015-09-03 00:00:00-04:00\n",
       "  stimulus: {\n",
       "    DS1.ch0 <class 'pynwb.misc.AnnotationSeries'>,\n",
       "    DS2.ch0 <class 'pynwb.misc.AnnotationSeries'>,\n",
       "    PulseStim_0V_10001ms_LD0 <class 'pynwb.misc.AnnotationSeries'>,\n",
       "    PulseStim_0V_10011ms_LD0 <class 'pynwb.misc.AnnotationSeries'>,\n",
       "    PulseStim_0V_10031ms_LD0 <class 'pynwb.misc.AnnotationSeries'>,\n",
       "    PulseStim_0V_10101ms_LD0 <class 'pynwb.misc.AnnotationSeries'>,\n",
       "    PulseStim_0V_10201ms_LD0 <class 'pynwb.misc.AnnotationSeries'>,\n",
       "    PulseStim_0V_11001ms_LD0 <class 'pynwb.misc.AnnotationSeries'>,\n",
       "    PulseStim_0V_12001ms_LD0 <class 'pynwb.misc.AnnotationSeries'>,\n",
       "    PulseStim_0V_13001ms_LD0 <class 'pynwb.misc.AnnotationSeries'>,\n",
       "    PulseStim_5V_77777ms_LD12 <class 'pynwb.misc.AnnotationSeries'>,\n",
       "    PulseStim_5V_77877ms_LD12 <class 'pynwb.misc.AnnotationSeries'>\n",
       "  }\n",
       "  subject: subject pynwb.file.Subject at 0x2232059983688\n",
       "Fields:\n",
       "  age: 346 days 00:00:00\n",
       "  genotype: POMC-Cre::Arch\n",
       "  species: mouse\n",
       "  subject_id: YutaMouse41\n",
       "\n",
       "  timestamps_reference_time: 2015-09-03 00:00:00-04:00\n",
       "  trials: trials <class 'pynwb.epoch.TimeIntervals'>\n",
       "  units: units <class 'pynwb.misc.Units'>"
      ]
     },
     "execution_count": 3,
     "metadata": {},
     "output_type": "execute_result"
    }
   ],
   "source": [
    "nwbFreshConversion"
   ]
  },
  {
   "cell_type": "code",
   "execution_count": 4,
   "metadata": {},
   "outputs": [
    {
     "name": "stdout",
     "output_type": "stream",
     "text": [
      "     start_time    stop_time  error_run  stim_run  both_visit  condition\n",
      "id                                                                      \n",
      "0      9.070400    91.968803        0.0       0.0         0.0   run_left\n",
      "1     91.968803   159.104797        0.0       0.0         0.0  run_right\n",
      "2    159.104797   253.025604        0.0       0.0         0.0   run_left\n",
      "3    253.025604   339.209595        0.0       1.0         0.0  run_right\n",
      "4    339.209595   560.609619        0.0       1.0         0.0   run_left\n",
      "5    560.609619   636.224792        0.0       1.0         0.0  run_right\n",
      "6    636.224792   766.022400        0.0       0.0         0.0   run_left\n",
      "7    766.022400   821.242371        0.0       0.0         0.0  run_right\n",
      "8    821.242371   935.072815        0.0       1.0         0.0   run_left\n",
      "9    935.072815   975.834412        1.0       1.0         0.0   run_left\n",
      "10   975.834412  1038.707153        0.0       0.0         0.0  run_right\n",
      "11  1038.707153  1111.165649        0.0       0.0         0.0   run_left\n",
      "12  1111.165649  1183.256836        0.0       0.0         0.0  run_right\n",
      "13  1183.256836  1280.058350        0.0       1.0         0.0   run_left\n",
      "14  1280.058350  1474.780029        1.0       1.0         0.0   run_left\n",
      "15  1474.780029  1607.656006        1.0       1.0         0.0   run_left\n",
      "16  1607.656006  1821.316772        0.0       0.0         0.0  run_right\n",
      "17  1821.316772  1977.671143        0.0       0.0         0.0   run_left\n",
      "18  1977.671143  2024.155151        1.0       1.0         0.0   run_left\n",
      "19  2024.155151  2078.451172        0.0       1.0         0.0  run_right\n",
      "20  2078.451172  2241.465576        0.0       0.0         0.0   run_left\n",
      "21  2241.465576  2369.768799        1.0       0.0         0.0   run_left\n",
      "22  2369.768799  2431.068848        0.0       0.0         0.0  run_right\n",
      "23  2431.068848  2677.961670        0.0       1.0         0.0   run_left\n",
      "24  2677.961670  2730.528809        1.0       1.0         0.0   run_left\n",
      "25  2730.528809  2802.271240        0.0       1.0         0.0  run_right\n",
      "26  2802.271240  2951.121582        1.0       0.0         0.0  run_right\n",
      "27  2951.121582  3072.625488        0.0       0.0         0.0   run_left\n",
      "28  3072.625488  3146.967285        1.0       1.0         0.0   run_left\n",
      "29  3146.967285  3370.677490        0.0       1.0         0.0  run_right\n",
      "30  3370.677490  3491.172852        0.0       0.0         0.0   run_left\n",
      "31  3491.172852  3706.300049        0.0       0.0         0.0  run_right\n"
     ]
    }
   ],
   "source": [
    "print(nwbDANDI.trials.to_dataframe())"
   ]
  },
  {
   "cell_type": "markdown",
   "metadata": {},
   "source": [
    "# Check Trials"
   ]
  },
  {
   "cell_type": "code",
   "execution_count": 5,
   "metadata": {},
   "outputs": [
    {
     "name": "stdout",
     "output_type": "stream",
     "text": [
      "    start_time  stop_time  error_run  stim_run  both_visit  condition\n",
      "id                                                                   \n",
      "0       9.0704    91.9688        0.0       0.0         0.0   run_left\n",
      "1      91.9688   159.1048        0.0       0.0         0.0  run_right\n",
      "2     159.1048   253.0256        0.0       0.0         0.0   run_left\n",
      "3     253.0256   339.2096        0.0       1.0         0.0  run_right\n",
      "4     339.2096   560.6096        0.0       1.0         0.0   run_left\n",
      "5     560.6096   636.2248        0.0       1.0         0.0  run_right\n",
      "6     636.2248   766.0224        0.0       0.0         0.0   run_left\n",
      "7     766.0224   821.2424        0.0       0.0         0.0  run_right\n",
      "8     821.2424   935.0728        0.0       1.0         0.0   run_left\n",
      "9     935.0728   975.8344        1.0       1.0         0.0   run_left\n",
      "10    975.8344  1038.7072        0.0       0.0         0.0  run_right\n",
      "11   1038.7072  1111.1656        0.0       0.0         0.0   run_left\n",
      "12   1111.1656  1183.2568        0.0       0.0         0.0  run_right\n",
      "13   1183.2568  1280.0584        0.0       1.0         0.0   run_left\n",
      "14   1280.0584  1474.7800        1.0       1.0         0.0   run_left\n",
      "15   1474.7800  1607.6560        1.0       1.0         0.0   run_left\n",
      "16   1607.6560  1821.3168        0.0       0.0         0.0  run_right\n",
      "17   1821.3168  1977.6712        0.0       0.0         0.0   run_left\n",
      "18   1977.6712  2024.1552        1.0       1.0         0.0   run_left\n",
      "19   2024.1552  2078.4512        0.0       1.0         0.0  run_right\n",
      "20   2078.4512  2241.4656        0.0       0.0         0.0   run_left\n",
      "21   2241.4656  2369.7688        1.0       0.0         0.0   run_left\n",
      "22   2369.7688  2431.0688        0.0       0.0         0.0  run_right\n",
      "23   2431.0688  2677.9616        0.0       1.0         0.0   run_left\n",
      "24   2677.9616  2730.5288        1.0       1.0         0.0   run_left\n",
      "25   2730.5288  2802.2712        0.0       1.0         0.0  run_right\n",
      "26   2802.2712  2951.1216        1.0       0.0         0.0  run_right\n",
      "27   2951.1216  3072.6256        0.0       0.0         0.0   run_left\n",
      "28   3072.6256  3146.9672        1.0       1.0         0.0   run_left\n",
      "29   3146.9672  3370.6776        0.0       1.0         0.0  run_right\n",
      "30   3370.6776  3491.1728        0.0       0.0         0.0   run_left\n",
      "31   3491.1728  3706.3000        0.0       0.0         0.0  run_right\n"
     ]
    }
   ],
   "source": [
    "print(nwbFreshConversion.trials.to_dataframe())"
   ]
  },
  {
   "cell_type": "code",
   "execution_count": 6,
   "metadata": {},
   "outputs": [
    {
     "data": {
      "text/plain": [
       "{'behavior': behavior pynwb.base.ProcessingModule at 0x2232059687688\n",
       " Fields:\n",
       "   data_interfaces: {\n",
       "     EightMazePosition_position <class 'pynwb.behavior.Position'>,\n",
       "     OpenFieldPosition_ExtraLarge_position <class 'pynwb.behavior.Position'>,\n",
       "     OpenFieldPosition_New_Curtain_position <class 'pynwb.behavior.Position'>,\n",
       "     OpenFieldPosition_New_position <class 'pynwb.behavior.Position'>,\n",
       "     OpenFieldPosition_Old_Curtain_position <class 'pynwb.behavior.Position'>,\n",
       "     OpenFieldPosition_Old_position <class 'pynwb.behavior.Position'>,\n",
       "     OpenFieldPosition_Oldlast_position <class 'pynwb.behavior.Position'>,\n",
       "     states <class 'pynwb.epoch.TimeIntervals'>\n",
       "   }\n",
       "   description: contains processed behavioral data,\n",
       " 'ecephys': ecephys pynwb.base.ProcessingModule at 0x2232059688968\n",
       " Fields:\n",
       "   data_interfaces: {\n",
       "     LFP <class 'pynwb.ecephys.LFP'>,\n",
       "     LFPDecompositionSeries <class 'pynwb.misc.DecompositionSeries'>,\n",
       "     SpikeEventSeries1 <class 'pynwb.ecephys.SpikeEventSeries'>,\n",
       "     SpikeEventSeries2 <class 'pynwb.ecephys.SpikeEventSeries'>,\n",
       "     SpikeEventSeries3 <class 'pynwb.ecephys.SpikeEventSeries'>,\n",
       "     SpikeEventSeries4 <class 'pynwb.ecephys.SpikeEventSeries'>,\n",
       "     SpikeEventSeries5 <class 'pynwb.ecephys.SpikeEventSeries'>,\n",
       "     SpikeEventSeries6 <class 'pynwb.ecephys.SpikeEventSeries'>,\n",
       "     SpikeEventSeries7 <class 'pynwb.ecephys.SpikeEventSeries'>,\n",
       "     SpikeEventSeries8 <class 'pynwb.ecephys.SpikeEventSeries'>\n",
       "   }\n",
       "   description: intermediate data from extracellular electrophysiology recordings, e.g., LFP}"
      ]
     },
     "execution_count": 6,
     "metadata": {},
     "output_type": "execute_result"
    }
   ],
   "source": [
    "nwbDANDI.processing"
   ]
  },
  {
   "cell_type": "markdown",
   "metadata": {},
   "source": [
    "# Check behavioral (non-acquisition) positions"
   ]
  },
  {
   "cell_type": "code",
   "execution_count": 7,
   "metadata": {},
   "outputs": [
    {
     "data": {
      "text/plain": [
       "EightMazePosition_position pynwb.behavior.Position at 0x2232059612616\n",
       "Fields:\n",
       "  spatial_series: {\n",
       "    EightMazePosition_twhl_linearized_spatial_series <class 'pynwb.behavior.SpatialSeries'>,\n",
       "    EightMazePosition_twhl_norm_spatial_series <class 'pynwb.behavior.SpatialSeries'>\n",
       "  }"
      ]
     },
     "execution_count": 7,
     "metadata": {},
     "output_type": "execute_result"
    }
   ],
   "source": [
    "nwbDANDI.processing['behavior']['EightMazePosition_position']"
   ]
  },
  {
   "cell_type": "code",
   "execution_count": 8,
   "metadata": {},
   "outputs": [
    {
     "data": {
      "text/plain": [
       "EightMazePosition_position pynwb.behavior.Position at 0x2232077406792\n",
       "Fields:\n",
       "  spatial_series: {\n",
       "    EightMazePosition_twhl_linearized_spatial_series <class 'pynwb.behavior.SpatialSeries'>,\n",
       "    EightMazePosition_twhl_norm_spatial_series <class 'pynwb.behavior.SpatialSeries'>\n",
       "  }"
      ]
     },
     "execution_count": 8,
     "metadata": {},
     "output_type": "execute_result"
    }
   ],
   "source": [
    "nwbFreshConversion.processing['behavior']['EightMazePosition_position']"
   ]
  },
  {
   "cell_type": "code",
   "execution_count": 9,
   "metadata": {},
   "outputs": [
    {
     "data": {
      "text/plain": [
       "array([[        nan,         nan],\n",
       "       [        nan,         nan],\n",
       "       [        nan,         nan],\n",
       "       ...,\n",
       "       [ 0.        , -1.35640775],\n",
       "       [ 0.        , -1.35660094],\n",
       "       [ 0.        , -1.35660094]])"
      ]
     },
     "execution_count": 9,
     "metadata": {},
     "output_type": "execute_result"
    }
   ],
   "source": [
    "nwbFreshConversion.processing['behavior']['EightMazePosition_position']['EightMazePosition_twhl_linearized_spatial_series'].data[()]"
   ]
  },
  {
   "cell_type": "markdown",
   "metadata": {},
   "source": [
    "# Check ecephys"
   ]
  },
  {
   "cell_type": "code",
   "execution_count": 10,
   "metadata": {},
   "outputs": [
    {
     "data": {
      "text/plain": [
       "ecephys pynwb.base.ProcessingModule at 0x2232059688968\n",
       "Fields:\n",
       "  data_interfaces: {\n",
       "    LFP <class 'pynwb.ecephys.LFP'>,\n",
       "    LFPDecompositionSeries <class 'pynwb.misc.DecompositionSeries'>,\n",
       "    SpikeEventSeries1 <class 'pynwb.ecephys.SpikeEventSeries'>,\n",
       "    SpikeEventSeries2 <class 'pynwb.ecephys.SpikeEventSeries'>,\n",
       "    SpikeEventSeries3 <class 'pynwb.ecephys.SpikeEventSeries'>,\n",
       "    SpikeEventSeries4 <class 'pynwb.ecephys.SpikeEventSeries'>,\n",
       "    SpikeEventSeries5 <class 'pynwb.ecephys.SpikeEventSeries'>,\n",
       "    SpikeEventSeries6 <class 'pynwb.ecephys.SpikeEventSeries'>,\n",
       "    SpikeEventSeries7 <class 'pynwb.ecephys.SpikeEventSeries'>,\n",
       "    SpikeEventSeries8 <class 'pynwb.ecephys.SpikeEventSeries'>\n",
       "  }\n",
       "  description: intermediate data from extracellular electrophysiology recordings, e.g., LFP"
      ]
     },
     "execution_count": 10,
     "metadata": {},
     "output_type": "execute_result"
    }
   ],
   "source": [
    "nwbDANDI.processing['ecephys']"
   ]
  },
  {
   "cell_type": "code",
   "execution_count": 11,
   "metadata": {},
   "outputs": [
    {
     "data": {
      "text/plain": [
       "lfp pynwb.ecephys.ElectricalSeries at 0x2232059815240\n",
       "Fields:\n",
       "  comments: no comments\n",
       "  conversion: nan\n",
       "  data: <HDF5 dataset \"data\": shape (50461375, 64), type \"<i2\">\n",
       "  description: lfp signal for all shank electrodes\n",
       "  electrodes: electrodes <class 'hdmf.common.table.DynamicTableRegion'>\n",
       "  rate: 1250.0\n",
       "  resolution: nan\n",
       "  starting_time: 0.0\n",
       "  starting_time_unit: seconds\n",
       "  unit: volts"
      ]
     },
     "execution_count": 11,
     "metadata": {},
     "output_type": "execute_result"
    }
   ],
   "source": [
    "nwbDANDI.processing['ecephys']['LFP']['lfp']"
   ]
  },
  {
   "cell_type": "code",
   "execution_count": 12,
   "metadata": {},
   "outputs": [
    {
     "data": {
      "text/plain": [
       "array([[-419, -660, -535, ...,  388,  378,  360],\n",
       "       [-410, -602, -520, ...,  572,  478,  532],\n",
       "       [-353, -467, -443, ...,  710,  636,  653],\n",
       "       ...,\n",
       "       [-560, -371, -462, ...,   89,   18,   91],\n",
       "       [-467, -298, -399, ...,   71,   21,   29],\n",
       "       [-578, -355, -476, ...,  -26,  -86,  -58]], dtype=int16)"
      ]
     },
     "execution_count": 12,
     "metadata": {},
     "output_type": "execute_result"
    }
   ],
   "source": [
    "nwbDANDI.processing['ecephys']['LFP']['lfp'].data[()]"
   ]
  },
  {
   "cell_type": "code",
   "execution_count": 13,
   "metadata": {},
   "outputs": [
    {
     "data": {
      "text/plain": [
       "ecephys pynwb.base.ProcessingModule at 0x2232077422280\n",
       "Fields:\n",
       "  data_interfaces: {\n",
       "    LFP <class 'pynwb.ecephys.LFP'>,\n",
       "    LFPDecompositionSeries <class 'pynwb.misc.DecompositionSeries'>,\n",
       "    SpikeEventSeries1 <class 'pynwb.ecephys.SpikeEventSeries'>,\n",
       "    SpikeEventSeries2 <class 'pynwb.ecephys.SpikeEventSeries'>,\n",
       "    SpikeEventSeries3 <class 'pynwb.ecephys.SpikeEventSeries'>,\n",
       "    SpikeEventSeries4 <class 'pynwb.ecephys.SpikeEventSeries'>,\n",
       "    SpikeEventSeries5 <class 'pynwb.ecephys.SpikeEventSeries'>,\n",
       "    SpikeEventSeries6 <class 'pynwb.ecephys.SpikeEventSeries'>,\n",
       "    SpikeEventSeries7 <class 'pynwb.ecephys.SpikeEventSeries'>,\n",
       "    SpikeEventSeries8 <class 'pynwb.ecephys.SpikeEventSeries'>\n",
       "  }\n",
       "  description: intermediate data from extracellular electrophysiology recordings, e.g., LFP"
      ]
     },
     "execution_count": 13,
     "metadata": {},
     "output_type": "execute_result"
    }
   ],
   "source": [
    "nwbFreshConversion.a['ecephys']"
   ]
  },
  {
   "cell_type": "markdown",
   "metadata": {},
   "source": [
    "# Check raw acquisition"
   ]
  },
  {
   "cell_type": "code",
   "execution_count": null,
   "metadata": {},
   "outputs": [],
   "source": [
    "nwbFreshConversion.processing['ecephys']"
   ]
  }
 ],
 "metadata": {
  "kernelspec": {
   "display_name": "Python 3",
   "language": "python",
   "name": "python3"
  },
  "language_info": {
   "codemirror_mode": {
    "name": "ipython",
    "version": 3
   },
   "file_extension": ".py",
   "mimetype": "text/x-python",
   "name": "python",
   "nbconvert_exporter": "python",
   "pygments_lexer": "ipython3",
   "version": "3.7.6"
  }
 },
 "nbformat": 4,
 "nbformat_minor": 4
}
