{
 "cells": [
  {
   "cell_type": "code",
   "execution_count": 1,
   "metadata": {},
   "outputs": [],
   "source": [
    "from pynwb import NWBHDF5IO\n",
    "from pynwb import NWBFile\n",
    "\n",
    "io = NWBHDF5IO('D:\\\\BuzsakiData\\\\SenzaiY\\\\YutaMouse41\\\\sub-YutaMouse41_ses-YutaMouse41-150903_behavior+ecephys.nwb', 'r')\n",
    "nwbDANDI = io.read()\n",
    "\n",
    "io = NWBHDF5IO('D:\\\\BuzsakiData\\\\SenzaiY\\\\YutaMouse41\\\\YutaMouse41-150903_stub.nwb', 'r')\n",
    "nwbFreshConversion = io.read()"
   ]
  },
  {
   "cell_type": "code",
   "execution_count": 2,
   "metadata": {},
   "outputs": [
    {
     "data": {
      "text/plain": [
       "root pynwb.file.NWBFile at 0x2291339341128\n",
       "Fields:\n",
       "  acquisition: {\n",
       "    ch_SsolL <class 'pynwb.base.TimeSeries'>,\n",
       "    ch_SsolR <class 'pynwb.base.TimeSeries'>,\n",
       "    ch_arm <class 'pynwb.base.TimeSeries'>,\n",
       "    ch_dig1 <class 'pynwb.base.TimeSeries'>,\n",
       "    ch_dig2 <class 'pynwb.base.TimeSeries'>,\n",
       "    ch_entL <class 'pynwb.base.TimeSeries'>,\n",
       "    ch_entR <class 'pynwb.base.TimeSeries'>,\n",
       "    ch_solL <class 'pynwb.base.TimeSeries'>,\n",
       "    ch_solR <class 'pynwb.base.TimeSeries'>,\n",
       "    ch_wait <class 'pynwb.base.TimeSeries'>,\n",
       "    position_sensor0 <class 'pynwb.behavior.SpatialSeries'>,\n",
       "    position_sensor1 <class 'pynwb.behavior.SpatialSeries'>\n",
       "  }\n",
       "  devices: {\n",
       "    implant <class 'pynwb.device.Device'>\n",
       "  }\n",
       "  electrode_groups: {\n",
       "    shank1 <class 'pynwb.ecephys.ElectrodeGroup'>,\n",
       "    shank2 <class 'pynwb.ecephys.ElectrodeGroup'>,\n",
       "    shank3 <class 'pynwb.ecephys.ElectrodeGroup'>,\n",
       "    shank4 <class 'pynwb.ecephys.ElectrodeGroup'>,\n",
       "    shank5 <class 'pynwb.ecephys.ElectrodeGroup'>,\n",
       "    shank6 <class 'pynwb.ecephys.ElectrodeGroup'>,\n",
       "    shank7 <class 'pynwb.ecephys.ElectrodeGroup'>,\n",
       "    shank8 <class 'pynwb.ecephys.ElectrodeGroup'>\n",
       "  }\n",
       "  electrodes: electrodes <class 'hdmf.common.table.DynamicTable'>\n",
       "  epochs: epochs <class 'pynwb.epoch.TimeIntervals'>\n",
       "  experimenter: ['Yuta Senzai']\n",
       "  file_create_date: [datetime.datetime(2019, 4, 2, 4, 0, 19, 62824, tzinfo=tzoffset(None, -25200))]\n",
       "  identifier: YutaMouse41-150903\n",
       "  institution: NYU\n",
       "  intervals: {\n",
       "    epochs <class 'pynwb.epoch.TimeIntervals'>,\n",
       "    trials <class 'pynwb.epoch.TimeIntervals'>\n",
       "  }\n",
       "  lab: Buzsaki\n",
       "  processing: {\n",
       "    behavior <class 'pynwb.base.ProcessingModule'>,\n",
       "    ecephys <class 'pynwb.base.ProcessingModule'>\n",
       "  }\n",
       "  related_publications: ['DOI:10.1016/j.neuron.2016.12.011']\n",
       "  session_description: mouse in open exploration and theta maze\n",
       "  session_id: YutaMouse41-150903\n",
       "  session_start_time: 2015-09-03 00:00:00-07:00\n",
       "  stimulus: {\n",
       "    DS1.ch0 <class 'pynwb.misc.AnnotationSeries'>,\n",
       "    DS2.ch0 <class 'pynwb.misc.AnnotationSeries'>,\n",
       "    PulseStim_0V_10001ms_LD0 <class 'pynwb.misc.AnnotationSeries'>,\n",
       "    PulseStim_0V_10011ms_LD0 <class 'pynwb.misc.AnnotationSeries'>,\n",
       "    PulseStim_0V_10031ms_LD0 <class 'pynwb.misc.AnnotationSeries'>,\n",
       "    PulseStim_0V_10101ms_LD0 <class 'pynwb.misc.AnnotationSeries'>,\n",
       "    PulseStim_0V_10201ms_LD0 <class 'pynwb.misc.AnnotationSeries'>,\n",
       "    PulseStim_0V_11001ms_LD0 <class 'pynwb.misc.AnnotationSeries'>,\n",
       "    PulseStim_0V_12001ms_LD0 <class 'pynwb.misc.AnnotationSeries'>,\n",
       "    PulseStim_0V_13001ms_LD0 <class 'pynwb.misc.AnnotationSeries'>,\n",
       "    PulseStim_5V_77777ms_LD12 <class 'pynwb.misc.AnnotationSeries'>,\n",
       "    PulseStim_5V_77877ms_LD12 <class 'pynwb.misc.AnnotationSeries'>\n",
       "  }\n",
       "  subject: subject pynwb.file.Subject at 0x2291339387016\n",
       "Fields:\n",
       "  age: 346 days 00:00:00\n",
       "  genotype: POMC-Cre::Arch\n",
       "  species: mouse\n",
       "  subject_id: YutaMouse41\n",
       "\n",
       "  timestamps_reference_time: 2015-09-03 00:00:00-07:00\n",
       "  trials: trials <class 'pynwb.epoch.TimeIntervals'>\n",
       "  units: units <class 'pynwb.misc.Units'>"
      ]
     },
     "execution_count": 2,
     "metadata": {},
     "output_type": "execute_result"
    }
   ],
   "source": [
    "nwbDANDI"
   ]
  },
  {
   "cell_type": "code",
   "execution_count": 3,
   "metadata": {},
   "outputs": [
    {
     "data": {
      "text/plain": [
       "root pynwb.file.NWBFile at 0x2291339791496\n",
       "Fields:\n",
       "  acquisition: {\n",
       "    ES <class 'pynwb.ecephys.ElectricalSeries'>,\n",
       "    ch_SsolL <class 'pynwb.base.TimeSeries'>,\n",
       "    ch_SsolR <class 'pynwb.base.TimeSeries'>,\n",
       "    ch_arm <class 'pynwb.base.TimeSeries'>,\n",
       "    ch_dig1 <class 'pynwb.base.TimeSeries'>,\n",
       "    ch_dig2 <class 'pynwb.base.TimeSeries'>,\n",
       "    ch_entL <class 'pynwb.base.TimeSeries'>,\n",
       "    ch_entR <class 'pynwb.base.TimeSeries'>,\n",
       "    ch_solL <class 'pynwb.base.TimeSeries'>,\n",
       "    ch_solR <class 'pynwb.base.TimeSeries'>,\n",
       "    ch_wait <class 'pynwb.base.TimeSeries'>,\n",
       "    position_sensor0 <class 'pynwb.behavior.SpatialSeries'>,\n",
       "    position_sensor1 <class 'pynwb.behavior.SpatialSeries'>\n",
       "  }\n",
       "  devices: {\n",
       "    implant <class 'pynwb.device.Device'>\n",
       "  }\n",
       "  electrode_groups: {\n",
       "    shank1 <class 'pynwb.ecephys.ElectrodeGroup'>,\n",
       "    shank2 <class 'pynwb.ecephys.ElectrodeGroup'>,\n",
       "    shank3 <class 'pynwb.ecephys.ElectrodeGroup'>,\n",
       "    shank4 <class 'pynwb.ecephys.ElectrodeGroup'>,\n",
       "    shank5 <class 'pynwb.ecephys.ElectrodeGroup'>,\n",
       "    shank6 <class 'pynwb.ecephys.ElectrodeGroup'>,\n",
       "    shank7 <class 'pynwb.ecephys.ElectrodeGroup'>,\n",
       "    shank8 <class 'pynwb.ecephys.ElectrodeGroup'>\n",
       "  }\n",
       "  electrodes: electrodes <class 'hdmf.common.table.DynamicTable'>\n",
       "  epochs: epochs <class 'pynwb.epoch.TimeIntervals'>\n",
       "  experimenter: ['Yuta Senzai']\n",
       "  file_create_date: [datetime.datetime(2020, 7, 6, 14, 7, 29, 590433, tzinfo=tzoffset(None, -14400))]\n",
       "  identifier: YutaMouse41-150903\n",
       "  institution: NYU\n",
       "  intervals: {\n",
       "    epochs <class 'pynwb.epoch.TimeIntervals'>,\n",
       "    trials <class 'pynwb.epoch.TimeIntervals'>\n",
       "  }\n",
       "  lab: Buzsaki\n",
       "  processing: {\n",
       "    behavior <class 'pynwb.base.ProcessingModule'>,\n",
       "    ecephys <class 'pynwb.base.ProcessingModule'>\n",
       "  }\n",
       "  related_publications: ['DOI:10.1016/j.neuron.2016.12.011']\n",
       "  session_description: mouse in open exploration and theta maze\n",
       "  session_id: YutaMouse41-150903\n",
       "  session_start_time: 2015-09-03 00:00:00-04:00\n",
       "  stimulus: {\n",
       "    DS1.ch0 <class 'pynwb.misc.AnnotationSeries'>,\n",
       "    DS2.ch0 <class 'pynwb.misc.AnnotationSeries'>,\n",
       "    PulseStim_0V_10001ms_LD0 <class 'pynwb.misc.AnnotationSeries'>,\n",
       "    PulseStim_0V_10011ms_LD0 <class 'pynwb.misc.AnnotationSeries'>,\n",
       "    PulseStim_0V_10031ms_LD0 <class 'pynwb.misc.AnnotationSeries'>,\n",
       "    PulseStim_0V_10101ms_LD0 <class 'pynwb.misc.AnnotationSeries'>,\n",
       "    PulseStim_0V_10201ms_LD0 <class 'pynwb.misc.AnnotationSeries'>,\n",
       "    PulseStim_0V_11001ms_LD0 <class 'pynwb.misc.AnnotationSeries'>,\n",
       "    PulseStim_0V_12001ms_LD0 <class 'pynwb.misc.AnnotationSeries'>,\n",
       "    PulseStim_0V_13001ms_LD0 <class 'pynwb.misc.AnnotationSeries'>,\n",
       "    PulseStim_5V_77777ms_LD12 <class 'pynwb.misc.AnnotationSeries'>,\n",
       "    PulseStim_5V_77877ms_LD12 <class 'pynwb.misc.AnnotationSeries'>\n",
       "  }\n",
       "  subject: subject pynwb.file.Subject at 0x2291357253448\n",
       "Fields:\n",
       "  age: 346 days 00:00:00\n",
       "  genotype: POMC-Cre::Arch\n",
       "  species: mouse\n",
       "  subject_id: YutaMouse41\n",
       "\n",
       "  timestamps_reference_time: 2015-09-03 00:00:00-04:00\n",
       "  trials: trials <class 'pynwb.epoch.TimeIntervals'>\n",
       "  units: units <class 'pynwb.misc.Units'>"
      ]
     },
     "execution_count": 3,
     "metadata": {},
     "output_type": "execute_result"
    }
   ],
   "source": [
    "nwbFreshConversion"
   ]
  },
  {
   "cell_type": "code",
   "execution_count": 4,
   "metadata": {},
   "outputs": [
    {
     "name": "stdout",
     "output_type": "stream",
     "text": [
      "     start_time    stop_time  error_run  stim_run  both_visit  condition\n",
      "id                                                                      \n",
      "0      9.070400    91.968803        0.0       0.0         0.0   run_left\n",
      "1     91.968803   159.104797        0.0       0.0         0.0  run_right\n",
      "2    159.104797   253.025604        0.0       0.0         0.0   run_left\n",
      "3    253.025604   339.209595        0.0       1.0         0.0  run_right\n",
      "4    339.209595   560.609619        0.0       1.0         0.0   run_left\n",
      "5    560.609619   636.224792        0.0       1.0         0.0  run_right\n",
      "6    636.224792   766.022400        0.0       0.0         0.0   run_left\n",
      "7    766.022400   821.242371        0.0       0.0         0.0  run_right\n",
      "8    821.242371   935.072815        0.0       1.0         0.0   run_left\n",
      "9    935.072815   975.834412        1.0       1.0         0.0   run_left\n",
      "10   975.834412  1038.707153        0.0       0.0         0.0  run_right\n",
      "11  1038.707153  1111.165649        0.0       0.0         0.0   run_left\n",
      "12  1111.165649  1183.256836        0.0       0.0         0.0  run_right\n",
      "13  1183.256836  1280.058350        0.0       1.0         0.0   run_left\n",
      "14  1280.058350  1474.780029        1.0       1.0         0.0   run_left\n",
      "15  1474.780029  1607.656006        1.0       1.0         0.0   run_left\n",
      "16  1607.656006  1821.316772        0.0       0.0         0.0  run_right\n",
      "17  1821.316772  1977.671143        0.0       0.0         0.0   run_left\n",
      "18  1977.671143  2024.155151        1.0       1.0         0.0   run_left\n",
      "19  2024.155151  2078.451172        0.0       1.0         0.0  run_right\n",
      "20  2078.451172  2241.465576        0.0       0.0         0.0   run_left\n",
      "21  2241.465576  2369.768799        1.0       0.0         0.0   run_left\n",
      "22  2369.768799  2431.068848        0.0       0.0         0.0  run_right\n",
      "23  2431.068848  2677.961670        0.0       1.0         0.0   run_left\n",
      "24  2677.961670  2730.528809        1.0       1.0         0.0   run_left\n",
      "25  2730.528809  2802.271240        0.0       1.0         0.0  run_right\n",
      "26  2802.271240  2951.121582        1.0       0.0         0.0  run_right\n",
      "27  2951.121582  3072.625488        0.0       0.0         0.0   run_left\n",
      "28  3072.625488  3146.967285        1.0       1.0         0.0   run_left\n",
      "29  3146.967285  3370.677490        0.0       1.0         0.0  run_right\n",
      "30  3370.677490  3491.172852        0.0       0.0         0.0   run_left\n",
      "31  3491.172852  3706.300049        0.0       0.0         0.0  run_right\n"
     ]
    }
   ],
   "source": [
    "print(nwbDANDI.trials.to_dataframe())"
   ]
  },
  {
   "cell_type": "markdown",
   "metadata": {},
   "source": [
    "# Check Trials"
   ]
  },
  {
   "cell_type": "code",
   "execution_count": 5,
   "metadata": {},
   "outputs": [
    {
     "name": "stdout",
     "output_type": "stream",
     "text": [
      "    start_time  stop_time  error_run  stim_run  both_visit  condition\n",
      "id                                                                   \n",
      "0       9.0704    91.9688        0.0       0.0         0.0   run_left\n",
      "1      91.9688   159.1048        0.0       0.0         0.0  run_right\n",
      "2     159.1048   253.0256        0.0       0.0         0.0   run_left\n",
      "3     253.0256   339.2096        0.0       1.0         0.0  run_right\n",
      "4     339.2096   560.6096        0.0       1.0         0.0   run_left\n",
      "5     560.6096   636.2248        0.0       1.0         0.0  run_right\n",
      "6     636.2248   766.0224        0.0       0.0         0.0   run_left\n",
      "7     766.0224   821.2424        0.0       0.0         0.0  run_right\n",
      "8     821.2424   935.0728        0.0       1.0         0.0   run_left\n",
      "9     935.0728   975.8344        1.0       1.0         0.0   run_left\n",
      "10    975.8344  1038.7072        0.0       0.0         0.0  run_right\n",
      "11   1038.7072  1111.1656        0.0       0.0         0.0   run_left\n",
      "12   1111.1656  1183.2568        0.0       0.0         0.0  run_right\n",
      "13   1183.2568  1280.0584        0.0       1.0         0.0   run_left\n",
      "14   1280.0584  1474.7800        1.0       1.0         0.0   run_left\n",
      "15   1474.7800  1607.6560        1.0       1.0         0.0   run_left\n",
      "16   1607.6560  1821.3168        0.0       0.0         0.0  run_right\n",
      "17   1821.3168  1977.6712        0.0       0.0         0.0   run_left\n",
      "18   1977.6712  2024.1552        1.0       1.0         0.0   run_left\n",
      "19   2024.1552  2078.4512        0.0       1.0         0.0  run_right\n",
      "20   2078.4512  2241.4656        0.0       0.0         0.0   run_left\n",
      "21   2241.4656  2369.7688        1.0       0.0         0.0   run_left\n",
      "22   2369.7688  2431.0688        0.0       0.0         0.0  run_right\n",
      "23   2431.0688  2677.9616        0.0       1.0         0.0   run_left\n",
      "24   2677.9616  2730.5288        1.0       1.0         0.0   run_left\n",
      "25   2730.5288  2802.2712        0.0       1.0         0.0  run_right\n",
      "26   2802.2712  2951.1216        1.0       0.0         0.0  run_right\n",
      "27   2951.1216  3072.6256        0.0       0.0         0.0   run_left\n",
      "28   3072.6256  3146.9672        1.0       1.0         0.0   run_left\n",
      "29   3146.9672  3370.6776        0.0       1.0         0.0  run_right\n",
      "30   3370.6776  3491.1728        0.0       0.0         0.0   run_left\n",
      "31   3491.1728  3706.3000        0.0       0.0         0.0  run_right\n"
     ]
    }
   ],
   "source": [
    "print(nwbFreshConversion.trials.to_dataframe())"
   ]
  },
  {
   "cell_type": "code",
   "execution_count": 6,
   "metadata": {},
   "outputs": [
    {
     "data": {
      "text/plain": [
       "{'behavior': behavior pynwb.base.ProcessingModule at 0x2291339474184\n",
       " Fields:\n",
       "   data_interfaces: {\n",
       "     EightMazePosition_position <class 'pynwb.behavior.Position'>,\n",
       "     OpenFieldPosition_ExtraLarge_position <class 'pynwb.behavior.Position'>,\n",
       "     OpenFieldPosition_New_Curtain_position <class 'pynwb.behavior.Position'>,\n",
       "     OpenFieldPosition_New_position <class 'pynwb.behavior.Position'>,\n",
       "     OpenFieldPosition_Old_Curtain_position <class 'pynwb.behavior.Position'>,\n",
       "     OpenFieldPosition_Old_position <class 'pynwb.behavior.Position'>,\n",
       "     OpenFieldPosition_Oldlast_position <class 'pynwb.behavior.Position'>,\n",
       "     states <class 'pynwb.epoch.TimeIntervals'>\n",
       "   }\n",
       "   description: contains processed behavioral data,\n",
       " 'ecephys': ecephys pynwb.base.ProcessingModule at 0x2291339475464\n",
       " Fields:\n",
       "   data_interfaces: {\n",
       "     LFP <class 'pynwb.ecephys.LFP'>,\n",
       "     LFPDecompositionSeries <class 'pynwb.misc.DecompositionSeries'>,\n",
       "     SpikeEventSeries1 <class 'pynwb.ecephys.SpikeEventSeries'>,\n",
       "     SpikeEventSeries2 <class 'pynwb.ecephys.SpikeEventSeries'>,\n",
       "     SpikeEventSeries3 <class 'pynwb.ecephys.SpikeEventSeries'>,\n",
       "     SpikeEventSeries4 <class 'pynwb.ecephys.SpikeEventSeries'>,\n",
       "     SpikeEventSeries5 <class 'pynwb.ecephys.SpikeEventSeries'>,\n",
       "     SpikeEventSeries6 <class 'pynwb.ecephys.SpikeEventSeries'>,\n",
       "     SpikeEventSeries7 <class 'pynwb.ecephys.SpikeEventSeries'>,\n",
       "     SpikeEventSeries8 <class 'pynwb.ecephys.SpikeEventSeries'>\n",
       "   }\n",
       "   description: intermediate data from extracellular electrophysiology recordings, e.g., LFP}"
      ]
     },
     "execution_count": 6,
     "metadata": {},
     "output_type": "execute_result"
    }
   ],
   "source": [
    "nwbDANDI.processing"
   ]
  },
  {
   "cell_type": "markdown",
   "metadata": {},
   "source": [
    "# Check behavioral (non-acquisition) positions"
   ]
  },
  {
   "cell_type": "code",
   "execution_count": 7,
   "metadata": {},
   "outputs": [
    {
     "data": {
      "text/plain": [
       "EightMazePosition_position pynwb.behavior.Position at 0x2291339390920\n",
       "Fields:\n",
       "  spatial_series: {\n",
       "    EightMazePosition_twhl_linearized_spatial_series <class 'pynwb.behavior.SpatialSeries'>,\n",
       "    EightMazePosition_twhl_norm_spatial_series <class 'pynwb.behavior.SpatialSeries'>\n",
       "  }"
      ]
     },
     "execution_count": 7,
     "metadata": {},
     "output_type": "execute_result"
    }
   ],
   "source": [
    "nwbDANDI.processing['behavior']['EightMazePosition_position']"
   ]
  },
  {
   "cell_type": "code",
   "execution_count": 8,
   "metadata": {},
   "outputs": [
    {
     "data": {
      "text/plain": [
       "EightMazePosition_position pynwb.behavior.Position at 0x2291357175240\n",
       "Fields:\n",
       "  spatial_series: {\n",
       "    EightMazePosition_twhl_linearized_spatial_series <class 'pynwb.behavior.SpatialSeries'>,\n",
       "    EightMazePosition_twhl_norm_spatial_series <class 'pynwb.behavior.SpatialSeries'>\n",
       "  }"
      ]
     },
     "execution_count": 8,
     "metadata": {},
     "output_type": "execute_result"
    }
   ],
   "source": [
    "nwbFreshConversion.processing['behavior']['EightMazePosition_position']"
   ]
  },
  {
   "cell_type": "code",
   "execution_count": 9,
   "metadata": {},
   "outputs": [
    {
     "data": {
      "text/plain": [
       "array([[        nan,         nan],\n",
       "       [        nan,         nan],\n",
       "       [        nan,         nan],\n",
       "       ...,\n",
       "       [ 0.        , -1.35640775],\n",
       "       [ 0.        , -1.35660094],\n",
       "       [ 0.        , -1.35660094]])"
      ]
     },
     "execution_count": 9,
     "metadata": {},
     "output_type": "execute_result"
    }
   ],
   "source": [
    "nwbFreshConversion.processing['behavior']['EightMazePosition_position']['EightMazePosition_twhl_linearized_spatial_series'].data[()]"
   ]
  },
  {
   "cell_type": "markdown",
   "metadata": {},
   "source": [
    "# Check ecephys"
   ]
  },
  {
   "cell_type": "code",
   "execution_count": 10,
   "metadata": {},
   "outputs": [
    {
     "data": {
      "text/plain": [
       "ecephys pynwb.base.ProcessingModule at 0x2291339475464\n",
       "Fields:\n",
       "  data_interfaces: {\n",
       "    LFP <class 'pynwb.ecephys.LFP'>,\n",
       "    LFPDecompositionSeries <class 'pynwb.misc.DecompositionSeries'>,\n",
       "    SpikeEventSeries1 <class 'pynwb.ecephys.SpikeEventSeries'>,\n",
       "    SpikeEventSeries2 <class 'pynwb.ecephys.SpikeEventSeries'>,\n",
       "    SpikeEventSeries3 <class 'pynwb.ecephys.SpikeEventSeries'>,\n",
       "    SpikeEventSeries4 <class 'pynwb.ecephys.SpikeEventSeries'>,\n",
       "    SpikeEventSeries5 <class 'pynwb.ecephys.SpikeEventSeries'>,\n",
       "    SpikeEventSeries6 <class 'pynwb.ecephys.SpikeEventSeries'>,\n",
       "    SpikeEventSeries7 <class 'pynwb.ecephys.SpikeEventSeries'>,\n",
       "    SpikeEventSeries8 <class 'pynwb.ecephys.SpikeEventSeries'>\n",
       "  }\n",
       "  description: intermediate data from extracellular electrophysiology recordings, e.g., LFP"
      ]
     },
     "execution_count": 10,
     "metadata": {},
     "output_type": "execute_result"
    }
   ],
   "source": [
    "nwbDANDI.processing['ecephys']"
   ]
  },
  {
   "cell_type": "code",
   "execution_count": 11,
   "metadata": {},
   "outputs": [
    {
     "data": {
      "text/plain": [
       "(1302080, 32, 8)"
      ]
     },
     "execution_count": 11,
     "metadata": {},
     "output_type": "execute_result"
    }
   ],
   "source": [
    "nwbDANDI.processing['ecephys']['SpikeEventSeries1'].data.shape"
   ]
  },
  {
   "cell_type": "code",
   "execution_count": 12,
   "metadata": {},
   "outputs": [
    {
     "data": {
      "text/plain": [
       "lfp pynwb.ecephys.ElectricalSeries at 0x2291339597640\n",
       "Fields:\n",
       "  comments: no comments\n",
       "  conversion: nan\n",
       "  data: <HDF5 dataset \"data\": shape (50461375, 64), type \"<i2\">\n",
       "  description: lfp signal for all shank electrodes\n",
       "  electrodes: electrodes <class 'hdmf.common.table.DynamicTableRegion'>\n",
       "  rate: 1250.0\n",
       "  resolution: nan\n",
       "  starting_time: 0.0\n",
       "  starting_time_unit: seconds\n",
       "  unit: volts"
      ]
     },
     "execution_count": 12,
     "metadata": {},
     "output_type": "execute_result"
    }
   ],
   "source": [
    "nwbDANDI.processing['ecephys']['LFP']['lfp']"
   ]
  },
  {
   "cell_type": "code",
   "execution_count": 13,
   "metadata": {},
   "outputs": [
    {
     "data": {
      "text/plain": [
       "array([[-419, -660, -535, ...,  388,  378,  360],\n",
       "       [-410, -602, -520, ...,  572,  478,  532],\n",
       "       [-353, -467, -443, ...,  710,  636,  653],\n",
       "       ...,\n",
       "       [-560, -371, -462, ...,   89,   18,   91],\n",
       "       [-467, -298, -399, ...,   71,   21,   29],\n",
       "       [-578, -355, -476, ...,  -26,  -86,  -58]], dtype=int16)"
      ]
     },
     "execution_count": 13,
     "metadata": {},
     "output_type": "execute_result"
    }
   ],
   "source": [
    "nwbDANDI.processing['ecephys']['LFP']['lfp'].data[()]"
   ]
  },
  {
   "cell_type": "code",
   "execution_count": 14,
   "metadata": {},
   "outputs": [
    {
     "data": {
      "text/plain": [
       "ecephys pynwb.base.ProcessingModule at 0x2291357116296\n",
       "Fields:\n",
       "  data_interfaces: {\n",
       "    LFP <class 'pynwb.ecephys.LFP'>,\n",
       "    LFPDecompositionSeries <class 'pynwb.misc.DecompositionSeries'>,\n",
       "    SpikeEventSeries1 <class 'pynwb.ecephys.SpikeEventSeries'>,\n",
       "    SpikeEventSeries2 <class 'pynwb.ecephys.SpikeEventSeries'>,\n",
       "    SpikeEventSeries3 <class 'pynwb.ecephys.SpikeEventSeries'>,\n",
       "    SpikeEventSeries4 <class 'pynwb.ecephys.SpikeEventSeries'>,\n",
       "    SpikeEventSeries5 <class 'pynwb.ecephys.SpikeEventSeries'>,\n",
       "    SpikeEventSeries6 <class 'pynwb.ecephys.SpikeEventSeries'>,\n",
       "    SpikeEventSeries7 <class 'pynwb.ecephys.SpikeEventSeries'>,\n",
       "    SpikeEventSeries8 <class 'pynwb.ecephys.SpikeEventSeries'>\n",
       "  }\n",
       "  description: intermediate data from extracellular electrophysiology recordings, e.g., LFP"
      ]
     },
     "execution_count": 14,
     "metadata": {},
     "output_type": "execute_result"
    }
   ],
   "source": [
    "nwbFreshConversion.processing['ecephys']"
   ]
  },
  {
   "cell_type": "markdown",
   "metadata": {},
   "source": [
    "# Check raw acquisition"
   ]
  },
  {
   "cell_type": "code",
   "execution_count": 15,
   "metadata": {},
   "outputs": [
    {
     "data": {
      "text/plain": [
       "ES pynwb.ecephys.ElectricalSeries at 0x2291357116808\n",
       "Fields:\n",
       "  comments: no comments\n",
       "  conversion: nan\n",
       "  data: <HDF5 dataset \"data\": shape (1000, 80), type \"<f8\">\n",
       "  description: raw electrode data\n",
       "  electrodes: electrodes <class 'hdmf.common.table.DynamicTableRegion'>\n",
       "  rate: 1250.0\n",
       "  resolution: nan\n",
       "  starting_time: 0.0\n",
       "  starting_time_unit: seconds\n",
       "  unit: volts"
      ]
     },
     "execution_count": 15,
     "metadata": {},
     "output_type": "execute_result"
    }
   ],
   "source": [
    "nwbFreshConversion.acquisition['ES']"
   ]
  },
  {
   "cell_type": "code",
   "execution_count": 16,
   "metadata": {},
   "outputs": [
    {
     "data": {
      "text/plain": [
       "array([[ 0.25215979, -0.6268984 ,  0.29589168],\n",
       "       [ 1.25458129, -0.32001432,  0.85409343],\n",
       "       [-0.57114244,  1.20882771,  0.04206033],\n",
       "       ...,\n",
       "       [ 2.16257419,  0.4175421 ,  1.40048929],\n",
       "       [ 1.52977736,  0.35296285, -0.7430481 ],\n",
       "       [-0.23918863,  2.00408721,  0.10549619]])"
      ]
     },
     "execution_count": 16,
     "metadata": {},
     "output_type": "execute_result"
    }
   ],
   "source": [
    "nwbFreshConversion.acquisition['ES'].data[:,0:3]"
   ]
  },
  {
   "cell_type": "markdown",
   "metadata": {},
   "source": [
    "# Check Units"
   ]
  },
  {
   "cell_type": "code",
   "execution_count": 17,
   "metadata": {},
   "outputs": [
    {
     "data": {
      "text/plain": [
       "units pynwb.misc.Units at 0x2291332567944\n",
       "Fields:\n",
       "  colnames: ['shank_id' 'spike_times' 'electrode_group' 'cell_type' 'global_id'\n",
       " 'max_electrode']\n",
       "  columns: (\n",
       "    shank_id <class 'hdmf.common.table.VectorData'>,\n",
       "    spike_times_index <class 'hdmf.common.table.VectorIndex'>,\n",
       "    spike_times <class 'hdmf.common.table.VectorData'>,\n",
       "    electrode_group <class 'hdmf.common.table.VectorData'>,\n",
       "    cell_type <class 'hdmf.common.table.VectorData'>,\n",
       "    global_id <class 'hdmf.common.table.VectorData'>,\n",
       "    max_electrode <class 'hdmf.common.table.DynamicTableRegion'>\n",
       "  )\n",
       "  description: Autogenerated by NWBFile\n",
       "  id: id <class 'hdmf.common.table.ElementIdentifiers'>\n",
       "  waveform_unit: volts"
      ]
     },
     "execution_count": 17,
     "metadata": {},
     "output_type": "execute_result"
    }
   ],
   "source": [
    "nwbDANDI.units"
   ]
  },
  {
   "cell_type": "code",
   "execution_count": 18,
   "metadata": {},
   "outputs": [
    {
     "data": {
      "text/plain": [
       "units pynwb.misc.Units at 0x2291357116488\n",
       "Fields:\n",
       "  colnames: ['spike_times' 'cell_type' 'global_id' 'shank_id']\n",
       "  columns: (\n",
       "    spike_times_index <class 'hdmf.common.table.VectorIndex'>,\n",
       "    spike_times <class 'hdmf.common.table.VectorData'>,\n",
       "    cell_type <class 'hdmf.common.table.VectorData'>,\n",
       "    global_id <class 'hdmf.common.table.VectorData'>,\n",
       "    shank_id <class 'hdmf.common.table.VectorData'>\n",
       "  )\n",
       "  description: Autogenerated by NWBFile\n",
       "  id: id <class 'hdmf.common.table.ElementIdentifiers'>\n",
       "  waveform_unit: volts"
      ]
     },
     "execution_count": 18,
     "metadata": {},
     "output_type": "execute_result"
    }
   ],
   "source": [
    "nwbFreshConversion.units"
   ]
  },
  {
   "cell_type": "code",
   "execution_count": 19,
   "metadata": {},
   "outputs": [
    {
     "data": {
      "text/plain": [
       "array([ 0,  1,  2,  3,  4,  5,  6,  7,  8,  9, 10, 11, 12, 13, 14, 15, 16,\n",
       "       17, 18, 19, 20, 21, 22, 23, 24, 25, 26, 27, 28, 29, 30, 31, 32, 33,\n",
       "       34, 35, 36, 37, 38, 39, 40, 41, 42, 43, 44, 45, 46, 47, 48, 49, 50,\n",
       "       51, 52, 53, 54, 55, 56, 57], dtype=int64)"
      ]
     },
     "execution_count": 19,
     "metadata": {},
     "output_type": "execute_result"
    }
   ],
   "source": [
    "nwbDANDI.units.id[()]"
   ]
  },
  {
   "cell_type": "code",
   "execution_count": 20,
   "metadata": {},
   "outputs": [
    {
     "data": {
      "text/plain": [
       "array([ 0,  1,  2,  3,  4,  5,  6,  7,  8,  9, 10, 11, 12, 13, 14, 15, 16,\n",
       "       17, 18, 19, 20, 21, 22, 23, 24, 25, 26, 27, 28, 29, 30, 31, 32, 33,\n",
       "       34, 35, 36, 37, 38, 39, 40, 41, 42, 43, 44, 45, 46, 47, 48, 49, 50,\n",
       "       51, 52, 53, 54, 55, 56, 57])"
      ]
     },
     "execution_count": 20,
     "metadata": {},
     "output_type": "execute_result"
    }
   ],
   "source": [
    "nwbFreshConversion.units.id[()]"
   ]
  },
  {
   "cell_type": "code",
   "execution_count": 21,
   "metadata": {},
   "outputs": [
    {
     "data": {
      "text/plain": [
       "array([ 0,  1,  2,  3,  4,  5,  0,  0,  1,  2,  3,  4,  5,  0,  1,  2,  3,\n",
       "        4,  5,  6,  7,  8,  9, 10, 11, 12, 13, 14, 15,  0,  1,  2,  3,  4,\n",
       "        5,  6,  7,  8,  9, 10, 11, 12, 13, 14,  0,  1,  2,  3,  4,  5,  0,\n",
       "        1,  2,  3,  4,  5,  0,  1], dtype=int64)"
      ]
     },
     "execution_count": 21,
     "metadata": {},
     "output_type": "execute_result"
    }
   ],
   "source": [
    "nwbDANDI.units.shank_id[()]"
   ]
  },
  {
   "cell_type": "code",
   "execution_count": 22,
   "metadata": {},
   "outputs": [],
   "source": [
    "#nwbFreshConversion.units.shank_id[()]"
   ]
  },
  {
   "cell_type": "markdown",
   "metadata": {},
   "source": [
    "## Now, SpikeInterface likes to start the indices at 1 instead of 0, but this would be very easy to directly hard-code into the convert_yuta.py; should this be done? Official Nwb documentation does not seem to indicate a required convention..."
   ]
  },
  {
   "cell_type": "code",
   "execution_count": 23,
   "metadata": {},
   "outputs": [
    {
     "data": {
      "text/plain": [
       "array([2.74645000e+00, 4.67285000e+00, 5.05380000e+00, ...,\n",
       "       4.02819347e+04, 4.02933964e+04, 4.03623770e+04])"
      ]
     },
     "execution_count": 23,
     "metadata": {},
     "output_type": "execute_result"
    }
   ],
   "source": [
    "nwbDANDI.units.spike_times[()]"
   ]
  },
  {
   "cell_type": "code",
   "execution_count": 24,
   "metadata": {},
   "outputs": [
    {
     "data": {
      "text/plain": [
       "[array([2.74645000e+00, 4.67285000e+00, 5.05380000e+00, ...,\n",
       "        4.03650638e+04, 4.03655851e+04, 4.03661304e+04]),\n",
       " array([6.79250000e-01, 3.90745000e+00, 5.21515000e+00, ...,\n",
       "        4.03638397e+04, 4.03642682e+04, 4.03652464e+04]),\n",
       " array([3.30850000e-01, 6.65850000e-01, 9.47550000e-01, ...,\n",
       "        4.03680652e+04, 4.03681422e+04, 4.03681584e+04]),\n",
       " array([6.89000000e-02, 9.26500000e-02, 3.52250000e-01, ...,\n",
       "        4.03682433e+04, 4.03688545e+04, 4.03689807e+04]),\n",
       " array([5.29850000e-01, 7.97300000e-01, 5.01265000e+00, ...,\n",
       "        4.03282532e+04, 4.03663661e+04, 4.03690804e+04]),\n",
       " array([6.34500000e-02, 1.48150000e-01, 1.76300000e-01, ...,\n",
       "        4.03684153e+04, 4.03685206e+04, 4.03688152e+04]),\n",
       " array([1.37260000e+00, 3.51585000e+00, 4.08255000e+00, ...,\n",
       "        4.03560306e+04, 4.03639658e+04, 4.03665716e+04]),\n",
       " array([   51.48765,   126.1605 ,   182.88   , ..., 40164.80845,\n",
       "        40316.04105, 40336.97915]),\n",
       " array([1.04703500e+01, 4.85383000e+01, 6.78274000e+01, ...,\n",
       "        4.03627043e+04, 4.03638777e+04, 4.03647475e+04]),\n",
       " array([2.21570000e+00, 3.25900000e+00, 4.54580000e+00, ...,\n",
       "        4.03380235e+04, 4.03544213e+04, 4.03679952e+04]),\n",
       " array([3.12855000e+00, 9.24835000e+00, 9.89730000e+00, ...,\n",
       "        4.03369720e+04, 4.03422596e+04, 4.03537937e+04]),\n",
       " array([2.35190000e+00, 3.12755000e+00, 3.71505000e+00, ...,\n",
       "        4.03617342e+04, 4.03618860e+04, 4.03638023e+04]),\n",
       " array([8.78900000e-01, 8.86400000e-01, 9.01300000e-01, ...,\n",
       "        4.03614569e+04, 4.03656542e+04, 4.03674650e+04]),\n",
       " array([1.81820000e+00, 3.07585000e+00, 3.07975000e+00, ...,\n",
       "        4.03296657e+04, 4.03486023e+04, 4.03618014e+04]),\n",
       " array([1.12055000e+00, 1.14970000e+00, 1.39705000e+00, ...,\n",
       "        4.03615631e+04, 4.03620200e+04, 4.03673190e+04]),\n",
       " array([9.66800000e-01, 1.05175000e+00, 3.97000000e+00, ...,\n",
       "        4.03574685e+04, 4.03629806e+04, 4.03672801e+04]),\n",
       " array([   57.56765,    70.9832 ,    71.7896 , ..., 40265.0726 ,\n",
       "        40265.07795, 40354.4974 ]),\n",
       " array([7.20350000e+00, 7.57420000e+00, 9.06935000e+00, ...,\n",
       "        4.03253878e+04, 4.03294038e+04, 4.03398912e+04]),\n",
       " array([3.63900000e+00, 1.51049000e+01, 4.12608500e+01, ...,\n",
       "        4.03485553e+04, 4.03511185e+04, 4.03573590e+04]),\n",
       " array([  351.5146 ,   606.36775,   614.3671 , ..., 40008.24715,\n",
       "        40013.2874 , 40070.98065]),\n",
       " array([4.27150000e-01, 4.38200000e-01, 4.45400000e-01, ...,\n",
       "        4.03689774e+04, 4.03689814e+04, 4.03689927e+04]),\n",
       " array([9.70900000e-01, 2.26760000e+00, 3.57910000e+00, ...,\n",
       "        4.03640457e+04, 4.03651136e+04, 4.03674134e+04]),\n",
       " array([3.1934000e+00, 3.2752500e+00, 3.2858000e+00, ..., 4.0354482e+04,\n",
       "        4.0361650e+04, 4.0367465e+04]),\n",
       " array([2.10000000e-02, 2.48500000e-02, 1.00250000e-01, ...,\n",
       "        4.03689501e+04, 4.03689595e+04, 4.03689783e+04]),\n",
       " array([3.15525000e+00, 3.28725000e+00, 3.61285000e+00, ...,\n",
       "        4.03589001e+04, 4.03599648e+04, 4.03615114e+04]),\n",
       " array([4.66000000e-02, 1.95620000e+00, 2.35130000e+00, ...,\n",
       "        4.03674176e+04, 4.03676435e+04, 4.03676522e+04]),\n",
       " array([1.95070000e+00, 2.89715000e+00, 3.00125000e+00, ...,\n",
       "        4.03682245e+04, 4.03683324e+04, 4.03683577e+04]),\n",
       " array([  114.3199 ,   114.79915,   115.14595, ..., 40125.43975,\n",
       "        40178.8194 , 40325.7838 ]),\n",
       " array([8.93400000e+00, 1.24944250e+02, 1.25945550e+02, ...,\n",
       "        4.03208534e+04, 4.03236044e+04, 4.03615733e+04]),\n",
       " array([  244.45525,   244.47555,   245.1026 , ..., 40011.97245,\n",
       "        40017.1096 , 40140.0161 ]),\n",
       " array([7.01955000e+00, 2.06867500e+01, 6.91490000e+01, ...,\n",
       "        4.03459500e+04, 4.03646143e+04, 4.03689326e+04]),\n",
       " array([1.35278000e+01, 3.53159500e+01, 3.55084500e+01, ...,\n",
       "        4.03491934e+04, 4.03492274e+04, 4.03549439e+04]),\n",
       " array([9.29745000e+00, 1.12916500e+01, 2.08077000e+01, ...,\n",
       "        4.03252156e+04, 4.03323031e+04, 4.03459987e+04]),\n",
       " array([1.98496500e+01, 8.55255500e+01, 9.38271000e+01, ...,\n",
       "        4.02401129e+04, 4.02530886e+04, 4.03453208e+04]),\n",
       " array([1.97635000e+00, 6.18030000e+00, 8.00355000e+00, ...,\n",
       "        4.03617954e+04, 4.03633826e+04, 4.03672846e+04]),\n",
       " array([   68.3213 ,    82.452  ,   108.60215, ..., 40328.9547 ,\n",
       "        40363.57425, 40364.58945]),\n",
       " array([4.10050000e-01, 4.11750000e-01, 4.30150000e-01, ...,\n",
       "        4.03682038e+04, 4.03683763e+04, 4.03684721e+04]),\n",
       " array([1.39115000e+00, 1.41260000e+00, 1.43745000e+00, ...,\n",
       "        4.03690266e+04, 4.03690533e+04, 4.03690963e+04]),\n",
       " array([5.74040000e+00, 5.93960000e+00, 5.95065000e+00, ...,\n",
       "        4.03635914e+04, 4.03665010e+04, 4.03675489e+04]),\n",
       " array([2.28000000e-02, 2.72500000e-02, 4.40500000e-02, ...,\n",
       "        4.03689631e+04, 4.03689900e+04, 4.03690768e+04]),\n",
       " array([1.87000000e-02, 4.51000000e-02, 9.47000000e-02, ...,\n",
       "        4.03606814e+04, 4.03607966e+04, 4.03609189e+04]),\n",
       " array([3.59055000e+00, 3.81715000e+00, 3.84270000e+00, ...,\n",
       "        4.03316505e+04, 4.03492602e+04, 4.03672865e+04]),\n",
       " array([2.02404500e+01, 2.07993500e+01, 1.11035950e+02, ...,\n",
       "        4.03276659e+04, 4.03306025e+04, 4.03306079e+04]),\n",
       " array([7.79150000e-01, 1.44630000e+00, 4.94580000e+00, ...,\n",
       "        4.03649535e+04, 4.03651047e+04, 4.03652320e+04]),\n",
       " array([7.96205000e+00, 4.94246500e+01, 6.32702000e+01, ...,\n",
       "        4.03482743e+04, 4.03482786e+04, 4.03493921e+04]),\n",
       " array([4.41450000e-01, 1.02495000e+00, 1.24150000e+00, ...,\n",
       "        4.03295185e+04, 4.03508305e+04, 4.03638348e+04]),\n",
       " array([1.94435000e+00, 2.35105000e+00, 3.14315000e+00, ...,\n",
       "        4.03637995e+04, 4.03640405e+04, 4.03642856e+04]),\n",
       " array([  170.10945,   603.22815,   611.07145, ..., 40265.1736 ,\n",
       "        40329.9357 , 40361.88775]),\n",
       " array([2.43500000e-02, 8.28650000e-01, 1.00355000e+00, ...,\n",
       "        4.03688842e+04, 4.03689399e+04, 4.03690391e+04]),\n",
       " array([3.57005000e+00, 8.48185000e+00, 4.88029000e+01, ...,\n",
       "        4.03688270e+04, 4.03689368e+04, 4.03689863e+04]),\n",
       " array([2.44950000e-01, 4.01550000e-01, 1.05195000e+00, ...,\n",
       "        4.03667276e+04, 4.03672874e+04, 4.03683501e+04]),\n",
       " array([9.57950000e-01, 3.15360000e+00, 3.33995000e+00, ...,\n",
       "        4.03587654e+04, 4.03649609e+04, 4.03653708e+04]),\n",
       " array([1.82450000e+00, 3.12970000e+00, 3.15785000e+00, ...,\n",
       "        4.01647743e+04, 4.01679913e+04, 4.01751142e+04]),\n",
       " array([1.37900000e-01, 8.80800000e-01, 1.55310000e+00, ...,\n",
       "        4.03686602e+04, 4.03686919e+04, 4.03690863e+04]),\n",
       " array([2.33500000e-02, 4.63500000e-02, 5.48000000e-02, ...,\n",
       "        4.03689468e+04, 4.03689537e+04, 4.03689714e+04]),\n",
       " array([9.11750000e-01, 2.72270000e+00, 5.83560000e+00, ...,\n",
       "        4.03663532e+04, 4.03674645e+04, 4.03680632e+04]),\n",
       " array([6.81745000e+00, 6.85070000e+00, 8.15925000e+00, ...,\n",
       "        4.03161678e+04, 4.03185935e+04, 4.03398192e+04]),\n",
       " array([1.20525000e+00, 6.18670000e+00, 2.61669000e+01, ...,\n",
       "        4.02819347e+04, 4.02933964e+04, 4.03623770e+04])]"
      ]
     },
     "execution_count": 24,
     "metadata": {},
     "output_type": "execute_result"
    }
   ],
   "source": [
    "nwbDANDI.units.spike_times_index[:]"
   ]
  },
  {
   "cell_type": "code",
   "execution_count": 25,
   "metadata": {},
   "outputs": [
    {
     "data": {
      "text/plain": [
       "array([2.74645000e+00, 4.67285000e+00, 5.05380000e+00, ...,\n",
       "       4.02819347e+04, 4.02933964e+04, 4.03623770e+04])"
      ]
     },
     "execution_count": 25,
     "metadata": {},
     "output_type": "execute_result"
    }
   ],
   "source": [
    "nwbFreshConversion.units.spike_times[()]"
   ]
  },
  {
   "cell_type": "code",
   "execution_count": 26,
   "metadata": {},
   "outputs": [
    {
     "data": {
      "text/plain": [
       "[array([2.74645000e+00, 4.67285000e+00, 5.05380000e+00, ...,\n",
       "        4.03650638e+04, 4.03655851e+04, 4.03661304e+04]),\n",
       " array([6.79250000e-01, 3.90745000e+00, 5.21515000e+00, ...,\n",
       "        4.03638397e+04, 4.03642682e+04, 4.03652464e+04]),\n",
       " array([3.30850000e-01, 6.65850000e-01, 9.47550000e-01, ...,\n",
       "        4.03680652e+04, 4.03681422e+04, 4.03681584e+04]),\n",
       " array([6.89000000e-02, 9.26500000e-02, 3.52250000e-01, ...,\n",
       "        4.03682433e+04, 4.03688545e+04, 4.03689807e+04]),\n",
       " array([5.29850000e-01, 7.97300000e-01, 5.01265000e+00, ...,\n",
       "        4.03282532e+04, 4.03663661e+04, 4.03690804e+04]),\n",
       " array([6.34500000e-02, 1.48150000e-01, 1.76300000e-01, ...,\n",
       "        4.03684153e+04, 4.03685206e+04, 4.03688152e+04]),\n",
       " array([1.37260000e+00, 3.51585000e+00, 4.08255000e+00, ...,\n",
       "        4.03560306e+04, 4.03639658e+04, 4.03665716e+04]),\n",
       " array([   51.48765,   126.1605 ,   182.88   , ..., 40164.80845,\n",
       "        40316.04105, 40336.97915]),\n",
       " array([1.04703500e+01, 4.85383000e+01, 6.78274000e+01, ...,\n",
       "        4.03627043e+04, 4.03638777e+04, 4.03647475e+04]),\n",
       " array([2.21570000e+00, 3.25900000e+00, 4.54580000e+00, ...,\n",
       "        4.03380235e+04, 4.03544213e+04, 4.03679952e+04]),\n",
       " array([3.12855000e+00, 9.24835000e+00, 9.89730000e+00, ...,\n",
       "        4.03369720e+04, 4.03422596e+04, 4.03537937e+04]),\n",
       " array([2.35190000e+00, 3.12755000e+00, 3.71505000e+00, ...,\n",
       "        4.03617342e+04, 4.03618860e+04, 4.03638023e+04]),\n",
       " array([8.78900000e-01, 8.86400000e-01, 9.01300000e-01, ...,\n",
       "        4.03614569e+04, 4.03656542e+04, 4.03674650e+04]),\n",
       " array([1.95070000e+00, 2.89715000e+00, 3.00125000e+00, ...,\n",
       "        4.03682245e+04, 4.03683324e+04, 4.03683577e+04]),\n",
       " array([  114.3199 ,   114.79915,   115.14595, ..., 40125.43975,\n",
       "        40178.8194 , 40325.7838 ]),\n",
       " array([8.93400000e+00, 1.24944250e+02, 1.25945550e+02, ...,\n",
       "        4.03208534e+04, 4.03236044e+04, 4.03615733e+04]),\n",
       " array([1.81820000e+00, 3.07585000e+00, 3.07975000e+00, ...,\n",
       "        4.03296657e+04, 4.03486023e+04, 4.03618014e+04]),\n",
       " array([1.12055000e+00, 1.14970000e+00, 1.39705000e+00, ...,\n",
       "        4.03615631e+04, 4.03620200e+04, 4.03673190e+04]),\n",
       " array([9.66800000e-01, 1.05175000e+00, 3.97000000e+00, ...,\n",
       "        4.03574685e+04, 4.03629806e+04, 4.03672801e+04]),\n",
       " array([   57.56765,    70.9832 ,    71.7896 , ..., 40265.0726 ,\n",
       "        40265.07795, 40354.4974 ]),\n",
       " array([7.20350000e+00, 7.57420000e+00, 9.06935000e+00, ...,\n",
       "        4.03253878e+04, 4.03294038e+04, 4.03398912e+04]),\n",
       " array([3.63900000e+00, 1.51049000e+01, 4.12608500e+01, ...,\n",
       "        4.03485553e+04, 4.03511185e+04, 4.03573590e+04]),\n",
       " array([  351.5146 ,   606.36775,   614.3671 , ..., 40008.24715,\n",
       "        40013.2874 , 40070.98065]),\n",
       " array([4.27150000e-01, 4.38200000e-01, 4.45400000e-01, ...,\n",
       "        4.03689774e+04, 4.03689814e+04, 4.03689927e+04]),\n",
       " array([9.70900000e-01, 2.26760000e+00, 3.57910000e+00, ...,\n",
       "        4.03640457e+04, 4.03651136e+04, 4.03674134e+04]),\n",
       " array([3.1934000e+00, 3.2752500e+00, 3.2858000e+00, ..., 4.0354482e+04,\n",
       "        4.0361650e+04, 4.0367465e+04]),\n",
       " array([2.10000000e-02, 2.48500000e-02, 1.00250000e-01, ...,\n",
       "        4.03689501e+04, 4.03689595e+04, 4.03689783e+04]),\n",
       " array([3.15525000e+00, 3.28725000e+00, 3.61285000e+00, ...,\n",
       "        4.03589001e+04, 4.03599648e+04, 4.03615114e+04]),\n",
       " array([4.66000000e-02, 1.95620000e+00, 2.35130000e+00, ...,\n",
       "        4.03674176e+04, 4.03676435e+04, 4.03676522e+04]),\n",
       " array([  244.45525,   244.47555,   245.1026 , ..., 40011.97245,\n",
       "        40017.1096 , 40140.0161 ]),\n",
       " array([7.01955000e+00, 2.06867500e+01, 6.91490000e+01, ...,\n",
       "        4.03459500e+04, 4.03646143e+04, 4.03689326e+04]),\n",
       " array([1.35278000e+01, 3.53159500e+01, 3.55084500e+01, ...,\n",
       "        4.03491934e+04, 4.03492274e+04, 4.03549439e+04]),\n",
       " array([9.29745000e+00, 1.12916500e+01, 2.08077000e+01, ...,\n",
       "        4.03252156e+04, 4.03323031e+04, 4.03459987e+04]),\n",
       " array([1.98496500e+01, 8.55255500e+01, 9.38271000e+01, ...,\n",
       "        4.02401129e+04, 4.02530886e+04, 4.03453208e+04]),\n",
       " array([1.97635000e+00, 6.18030000e+00, 8.00355000e+00, ...,\n",
       "        4.03617954e+04, 4.03633826e+04, 4.03672846e+04]),\n",
       " array([   68.3213 ,    82.452  ,   108.60215, ..., 40328.9547 ,\n",
       "        40363.57425, 40364.58945]),\n",
       " array([4.10050000e-01, 4.11750000e-01, 4.30150000e-01, ...,\n",
       "        4.03682038e+04, 4.03683763e+04, 4.03684721e+04]),\n",
       " array([1.39115000e+00, 1.41260000e+00, 1.43745000e+00, ...,\n",
       "        4.03690266e+04, 4.03690533e+04, 4.03690963e+04]),\n",
       " array([5.74040000e+00, 5.93960000e+00, 5.95065000e+00, ...,\n",
       "        4.03635914e+04, 4.03665010e+04, 4.03675489e+04]),\n",
       " array([2.28000000e-02, 2.72500000e-02, 4.40500000e-02, ...,\n",
       "        4.03689631e+04, 4.03689900e+04, 4.03690768e+04]),\n",
       " array([1.87000000e-02, 4.51000000e-02, 9.47000000e-02, ...,\n",
       "        4.03606814e+04, 4.03607966e+04, 4.03609189e+04]),\n",
       " array([3.59055000e+00, 3.81715000e+00, 3.84270000e+00, ...,\n",
       "        4.03316505e+04, 4.03492602e+04, 4.03672865e+04]),\n",
       " array([2.02404500e+01, 2.07993500e+01, 1.11035950e+02, ...,\n",
       "        4.03276659e+04, 4.03306025e+04, 4.03306079e+04]),\n",
       " array([7.79150000e-01, 1.44630000e+00, 4.94580000e+00, ...,\n",
       "        4.03649535e+04, 4.03651047e+04, 4.03652320e+04]),\n",
       " array([7.96205000e+00, 4.94246500e+01, 6.32702000e+01, ...,\n",
       "        4.03482743e+04, 4.03482786e+04, 4.03493921e+04]),\n",
       " array([4.41450000e-01, 1.02495000e+00, 1.24150000e+00, ...,\n",
       "        4.03295185e+04, 4.03508305e+04, 4.03638348e+04]),\n",
       " array([1.94435000e+00, 2.35105000e+00, 3.14315000e+00, ...,\n",
       "        4.03637995e+04, 4.03640405e+04, 4.03642856e+04]),\n",
       " array([  170.10945,   603.22815,   611.07145, ..., 40265.1736 ,\n",
       "        40329.9357 , 40361.88775]),\n",
       " array([2.43500000e-02, 8.28650000e-01, 1.00355000e+00, ...,\n",
       "        4.03688842e+04, 4.03689399e+04, 4.03690391e+04]),\n",
       " array([3.57005000e+00, 8.48185000e+00, 4.88029000e+01, ...,\n",
       "        4.03688270e+04, 4.03689368e+04, 4.03689863e+04]),\n",
       " array([2.44950000e-01, 4.01550000e-01, 1.05195000e+00, ...,\n",
       "        4.03667276e+04, 4.03672874e+04, 4.03683501e+04]),\n",
       " array([9.57950000e-01, 3.15360000e+00, 3.33995000e+00, ...,\n",
       "        4.03587654e+04, 4.03649609e+04, 4.03653708e+04]),\n",
       " array([1.82450000e+00, 3.12970000e+00, 3.15785000e+00, ...,\n",
       "        4.01647743e+04, 4.01679913e+04, 4.01751142e+04]),\n",
       " array([1.37900000e-01, 8.80800000e-01, 1.55310000e+00, ...,\n",
       "        4.03686602e+04, 4.03686919e+04, 4.03690863e+04]),\n",
       " array([2.33500000e-02, 4.63500000e-02, 5.48000000e-02, ...,\n",
       "        4.03689468e+04, 4.03689537e+04, 4.03689714e+04]),\n",
       " array([9.11750000e-01, 2.72270000e+00, 5.83560000e+00, ...,\n",
       "        4.03663532e+04, 4.03674645e+04, 4.03680632e+04]),\n",
       " array([6.81745000e+00, 6.85070000e+00, 8.15925000e+00, ...,\n",
       "        4.03161678e+04, 4.03185935e+04, 4.03398192e+04]),\n",
       " array([1.20525000e+00, 6.18670000e+00, 2.61669000e+01, ...,\n",
       "        4.02819347e+04, 4.02933964e+04, 4.03623770e+04])]"
      ]
     },
     "execution_count": 26,
     "metadata": {},
     "output_type": "execute_result"
    }
   ],
   "source": [
    "nwbFreshConversion.units.spike_times_index[:]"
   ]
  },
  {
   "cell_type": "code",
   "execution_count": null,
   "metadata": {},
   "outputs": [],
   "source": []
  }
 ],
 "metadata": {
  "kernelspec": {
   "display_name": "Python 3",
   "language": "python",
   "name": "python3"
  },
  "language_info": {
   "codemirror_mode": {
    "name": "ipython",
    "version": 3
   },
   "file_extension": ".py",
   "mimetype": "text/x-python",
   "name": "python",
   "nbconvert_exporter": "python",
   "pygments_lexer": "ipython3",
   "version": "3.7.6"
  }
 },
 "nbformat": 4,
 "nbformat_minor": 4
}
