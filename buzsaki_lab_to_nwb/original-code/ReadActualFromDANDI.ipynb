{
 "cells": [
  {
   "cell_type": "code",
   "execution_count": 4,
   "metadata": {},
   "outputs": [],
   "source": [
    "from pynwb import NWBHDF5IO\n",
    "from pynwb import NWBFile\n",
    "\n",
    "io = NWBHDF5IO('D:\\\\BuzsakiData\\\\SenzaiY\\\\YutaMouse41\\\\YutaMouse41-150903\\\\sub-YutaMouse41_ses-YutaMouse41-150903_behavior+ecephys.nwb', 'r')\n",
    "nwbActual = io.read()"
   ]
  },
  {
   "cell_type": "code",
   "execution_count": 14,
   "metadata": {},
   "outputs": [
    {
     "data": {
      "text/plain": [
       "root pynwb.file.NWBFile at 0x2289226666568\n",
       "Fields:\n",
       "  acquisition: {\n",
       "    ch_SsolL <class 'pynwb.base.TimeSeries'>,\n",
       "    ch_SsolR <class 'pynwb.base.TimeSeries'>,\n",
       "    ch_arm <class 'pynwb.base.TimeSeries'>,\n",
       "    ch_dig1 <class 'pynwb.base.TimeSeries'>,\n",
       "    ch_dig2 <class 'pynwb.base.TimeSeries'>,\n",
       "    ch_entL <class 'pynwb.base.TimeSeries'>,\n",
       "    ch_entR <class 'pynwb.base.TimeSeries'>,\n",
       "    ch_solL <class 'pynwb.base.TimeSeries'>,\n",
       "    ch_solR <class 'pynwb.base.TimeSeries'>,\n",
       "    ch_wait <class 'pynwb.base.TimeSeries'>,\n",
       "    position_sensor0 <class 'pynwb.behavior.SpatialSeries'>,\n",
       "    position_sensor1 <class 'pynwb.behavior.SpatialSeries'>\n",
       "  }\n",
       "  devices: {\n",
       "    implant <class 'pynwb.device.Device'>\n",
       "  }\n",
       "  electrode_groups: {\n",
       "    shank1 <class 'pynwb.ecephys.ElectrodeGroup'>,\n",
       "    shank2 <class 'pynwb.ecephys.ElectrodeGroup'>,\n",
       "    shank3 <class 'pynwb.ecephys.ElectrodeGroup'>,\n",
       "    shank4 <class 'pynwb.ecephys.ElectrodeGroup'>,\n",
       "    shank5 <class 'pynwb.ecephys.ElectrodeGroup'>,\n",
       "    shank6 <class 'pynwb.ecephys.ElectrodeGroup'>,\n",
       "    shank7 <class 'pynwb.ecephys.ElectrodeGroup'>,\n",
       "    shank8 <class 'pynwb.ecephys.ElectrodeGroup'>\n",
       "  }\n",
       "  electrodes: electrodes <class 'hdmf.common.table.DynamicTable'>\n",
       "  epochs: epochs <class 'pynwb.epoch.TimeIntervals'>\n",
       "  experimenter: ['Yuta Senzai']\n",
       "  file_create_date: [datetime.datetime(2019, 4, 2, 4, 0, 19, 62824, tzinfo=tzoffset(None, -25200))]\n",
       "  identifier: YutaMouse41-150903\n",
       "  institution: NYU\n",
       "  intervals: {\n",
       "    epochs <class 'pynwb.epoch.TimeIntervals'>,\n",
       "    trials <class 'pynwb.epoch.TimeIntervals'>\n",
       "  }\n",
       "  lab: Buzsaki\n",
       "  processing: {\n",
       "    behavior <class 'pynwb.base.ProcessingModule'>,\n",
       "    ecephys <class 'pynwb.base.ProcessingModule'>\n",
       "  }\n",
       "  related_publications: ['DOI:10.1016/j.neuron.2016.12.011']\n",
       "  session_description: mouse in open exploration and theta maze\n",
       "  session_id: YutaMouse41-150903\n",
       "  session_start_time: 2015-09-03 00:00:00-07:00\n",
       "  stimulus: {\n",
       "    DS1.ch0 <class 'pynwb.misc.AnnotationSeries'>,\n",
       "    DS2.ch0 <class 'pynwb.misc.AnnotationSeries'>,\n",
       "    PulseStim_0V_10001ms_LD0 <class 'pynwb.misc.AnnotationSeries'>,\n",
       "    PulseStim_0V_10011ms_LD0 <class 'pynwb.misc.AnnotationSeries'>,\n",
       "    PulseStim_0V_10031ms_LD0 <class 'pynwb.misc.AnnotationSeries'>,\n",
       "    PulseStim_0V_10101ms_LD0 <class 'pynwb.misc.AnnotationSeries'>,\n",
       "    PulseStim_0V_10201ms_LD0 <class 'pynwb.misc.AnnotationSeries'>,\n",
       "    PulseStim_0V_11001ms_LD0 <class 'pynwb.misc.AnnotationSeries'>,\n",
       "    PulseStim_0V_12001ms_LD0 <class 'pynwb.misc.AnnotationSeries'>,\n",
       "    PulseStim_0V_13001ms_LD0 <class 'pynwb.misc.AnnotationSeries'>,\n",
       "    PulseStim_5V_77777ms_LD12 <class 'pynwb.misc.AnnotationSeries'>,\n",
       "    PulseStim_5V_77877ms_LD12 <class 'pynwb.misc.AnnotationSeries'>\n",
       "  }\n",
       "  subject: subject pynwb.file.Subject at 0x2289225730568\n",
       "Fields:\n",
       "  age: 346 days 00:00:00\n",
       "  genotype: POMC-Cre::Arch\n",
       "  species: mouse\n",
       "  subject_id: YutaMouse41\n",
       "\n",
       "  timestamps_reference_time: 2015-09-03 00:00:00-07:00\n",
       "  trials: trials <class 'pynwb.epoch.TimeIntervals'>\n",
       "  units: units <class 'pynwb.misc.Units'>"
      ]
     },
     "execution_count": 14,
     "metadata": {},
     "output_type": "execute_result"
    }
   ],
   "source": [
    "nwbActual"
   ]
  },
  {
   "cell_type": "code",
   "execution_count": 15,
   "metadata": {},
   "outputs": [
    {
     "data": {
      "text/plain": [
       "{'behavior': behavior pynwb.base.ProcessingModule at 0x2289226749576\n",
       " Fields:\n",
       "   data_interfaces: {\n",
       "     EightMazePosition_position <class 'pynwb.behavior.Position'>,\n",
       "     OpenFieldPosition_ExtraLarge_position <class 'pynwb.behavior.Position'>,\n",
       "     OpenFieldPosition_New_Curtain_position <class 'pynwb.behavior.Position'>,\n",
       "     OpenFieldPosition_New_position <class 'pynwb.behavior.Position'>,\n",
       "     OpenFieldPosition_Old_Curtain_position <class 'pynwb.behavior.Position'>,\n",
       "     OpenFieldPosition_Old_position <class 'pynwb.behavior.Position'>,\n",
       "     OpenFieldPosition_Oldlast_position <class 'pynwb.behavior.Position'>,\n",
       "     states <class 'pynwb.epoch.TimeIntervals'>\n",
       "   }\n",
       "   description: contains processed behavioral data,\n",
       " 'ecephys': ecephys pynwb.base.ProcessingModule at 0x2289226788616\n",
       " Fields:\n",
       "   data_interfaces: {\n",
       "     LFP <class 'pynwb.ecephys.LFP'>,\n",
       "     LFPDecompositionSeries <class 'pynwb.misc.DecompositionSeries'>,\n",
       "     SpikeEventSeries1 <class 'pynwb.ecephys.SpikeEventSeries'>,\n",
       "     SpikeEventSeries2 <class 'pynwb.ecephys.SpikeEventSeries'>,\n",
       "     SpikeEventSeries3 <class 'pynwb.ecephys.SpikeEventSeries'>,\n",
       "     SpikeEventSeries4 <class 'pynwb.ecephys.SpikeEventSeries'>,\n",
       "     SpikeEventSeries5 <class 'pynwb.ecephys.SpikeEventSeries'>,\n",
       "     SpikeEventSeries6 <class 'pynwb.ecephys.SpikeEventSeries'>,\n",
       "     SpikeEventSeries7 <class 'pynwb.ecephys.SpikeEventSeries'>,\n",
       "     SpikeEventSeries8 <class 'pynwb.ecephys.SpikeEventSeries'>\n",
       "   }\n",
       "   description: intermediate data from extracellular electrophysiology recordings, e.g., LFP}"
      ]
     },
     "execution_count": 15,
     "metadata": {},
     "output_type": "execute_result"
    }
   ],
   "source": [
    "nwbActual.processing"
   ]
  },
  {
   "cell_type": "code",
   "execution_count": 18,
   "metadata": {},
   "outputs": [
    {
     "data": {
      "text/plain": [
       "ecephys pynwb.base.ProcessingModule at 0x2289226788616\n",
       "Fields:\n",
       "  data_interfaces: {\n",
       "    LFP <class 'pynwb.ecephys.LFP'>,\n",
       "    LFPDecompositionSeries <class 'pynwb.misc.DecompositionSeries'>,\n",
       "    SpikeEventSeries1 <class 'pynwb.ecephys.SpikeEventSeries'>,\n",
       "    SpikeEventSeries2 <class 'pynwb.ecephys.SpikeEventSeries'>,\n",
       "    SpikeEventSeries3 <class 'pynwb.ecephys.SpikeEventSeries'>,\n",
       "    SpikeEventSeries4 <class 'pynwb.ecephys.SpikeEventSeries'>,\n",
       "    SpikeEventSeries5 <class 'pynwb.ecephys.SpikeEventSeries'>,\n",
       "    SpikeEventSeries6 <class 'pynwb.ecephys.SpikeEventSeries'>,\n",
       "    SpikeEventSeries7 <class 'pynwb.ecephys.SpikeEventSeries'>,\n",
       "    SpikeEventSeries8 <class 'pynwb.ecephys.SpikeEventSeries'>\n",
       "  }\n",
       "  description: intermediate data from extracellular electrophysiology recordings, e.g., LFP"
      ]
     },
     "execution_count": 18,
     "metadata": {},
     "output_type": "execute_result"
    }
   ],
   "source": [
    "nwbActual.processing['ecephys']"
   ]
  },
  {
   "cell_type": "code",
   "execution_count": 23,
   "metadata": {},
   "outputs": [
    {
     "data": {
      "text/plain": [
       "LFP pynwb.ecephys.LFP at 0x2289226750664\n",
       "Fields:\n",
       "  electrical_series: {\n",
       "    lfp <class 'pynwb.ecephys.ElectricalSeries'>\n",
       "  }"
      ]
     },
     "execution_count": 23,
     "metadata": {},
     "output_type": "execute_result"
    }
   ],
   "source": [
    "nwbActual.processing['ecephys']['LFP']"
   ]
  },
  {
   "cell_type": "code",
   "execution_count": 24,
   "metadata": {},
   "outputs": [
    {
     "data": {
      "text/plain": [
       "lfp pynwb.ecephys.ElectricalSeries at 0x2289226749448\n",
       "Fields:\n",
       "  comments: no comments\n",
       "  conversion: nan\n",
       "  data: <HDF5 dataset \"data\": shape (50461375, 64), type \"<i2\">\n",
       "  description: lfp signal for all shank electrodes\n",
       "  electrodes: electrodes <class 'hdmf.common.table.DynamicTableRegion'>\n",
       "  rate: 1250.0\n",
       "  resolution: nan\n",
       "  starting_time: 0.0\n",
       "  starting_time_unit: seconds\n",
       "  unit: volts"
      ]
     },
     "execution_count": 24,
     "metadata": {},
     "output_type": "execute_result"
    }
   ],
   "source": [
    "nwbActual.processing['ecephys']['LFP']['lfp']"
   ]
  },
  {
   "cell_type": "code",
   "execution_count": 26,
   "metadata": {},
   "outputs": [
    {
     "data": {
      "text/plain": [
       "<HDF5 dataset \"data\": shape (50461375, 64), type \"<i2\">"
      ]
     },
     "execution_count": 26,
     "metadata": {},
     "output_type": "execute_result"
    }
   ],
   "source": [
    "nwbActual.processing['ecephys']['LFP']['lfp'].data"
   ]
  },
  {
   "cell_type": "code",
   "execution_count": 29,
   "metadata": {},
   "outputs": [
    {
     "data": {
      "text/plain": [
       "array([[-419, -660, -535],\n",
       "       [-410, -602, -520],\n",
       "       [-353, -467, -443],\n",
       "       [-353, -464, -440],\n",
       "       [-279, -305, -346]], dtype=int16)"
      ]
     },
     "execution_count": 29,
     "metadata": {},
     "output_type": "execute_result"
    }
   ],
   "source": [
    "nwbActual.processing['ecephys']['LFP']['lfp'].data[0:5,0:3]"
   ]
  },
  {
   "cell_type": "code",
   "execution_count": 31,
   "metadata": {},
   "outputs": [
    {
     "data": {
      "text/plain": [
       "ch_SsolL pynwb.base.TimeSeries at 0x2289226710408\n",
       "Fields:\n",
       "  comments: no comments\n",
       "  conversion: nan\n",
       "  data: <HDF5 dataset \"data\": shape (80,), type \"<i2\">\n",
       "  description: environmental electrode recorded inline with neural data\n",
       "  rate: 1250.0\n",
       "  resolution: nan\n",
       "  starting_time: 0.0\n",
       "  starting_time_unit: seconds\n",
       "  unit: V"
      ]
     },
     "execution_count": 31,
     "metadata": {},
     "output_type": "execute_result"
    }
   ],
   "source": [
    "nwbActual.acquisition['ch_SsolL']"
   ]
  },
  {
   "cell_type": "code",
   "execution_count": null,
   "metadata": {},
   "outputs": [],
   "source": []
  }
 ],
 "metadata": {
  "kernelspec": {
   "display_name": "Python 3",
   "language": "python",
   "name": "python3"
  },
  "language_info": {
   "codemirror_mode": {
    "name": "ipython",
    "version": 3
   },
   "file_extension": ".py",
   "mimetype": "text/x-python",
   "name": "python",
   "nbconvert_exporter": "python",
   "pygments_lexer": "ipython3",
   "version": "3.7.6"
  }
 },
 "nbformat": 4,
 "nbformat_minor": 4
}
